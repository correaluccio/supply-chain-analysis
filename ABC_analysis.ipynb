{
 "cells": [
  {
   "cell_type": "markdown",
   "metadata": {},
   "source": [
    "### Análisis de Datos y Clasificación ABC en una Cadena de Suministros\n",
    "\n",
    "Realizaremos un análisis exhaustivo de datos ficticios correspondientes a una cadena de suministros. Este proceso incluirá la visualización de datos para identificar patrones y tendencias, así como la clasificación ABC tanto de productos como de clientes. La visualización facilitará la comprensión de la distribución y el rendimiento, mientras que la clasificación ABC ayudará a categorizar y gestionar los elementos clave en la cadena de suministros.\n",
    "\n"
   ]
  },
  {
   "cell_type": "code",
   "execution_count": 67,
   "metadata": {},
   "outputs": [],
   "source": [
    "import pandas as pd\n",
    "from datetime import datetime\n",
    "import plotly.express as px\n",
    "import plotly.graph_objects as go\n",
    "from plotly.subplots import make_subplots"
   ]
  },
  {
   "cell_type": "code",
   "execution_count": 68,
   "metadata": {},
   "outputs": [
    {
     "data": {
      "text/html": [
       "<div>\n",
       "<style scoped>\n",
       "    .dataframe tbody tr th:only-of-type {\n",
       "        vertical-align: middle;\n",
       "    }\n",
       "\n",
       "    .dataframe tbody tr th {\n",
       "        vertical-align: top;\n",
       "    }\n",
       "\n",
       "    .dataframe thead th {\n",
       "        text-align: right;\n",
       "    }\n",
       "</style>\n",
       "<table border=\"1\" class=\"dataframe\">\n",
       "  <thead>\n",
       "    <tr style=\"text-align: right;\">\n",
       "      <th></th>\n",
       "      <th>ORDER_NO</th>\n",
       "      <th>DATE</th>\n",
       "      <th>LINE</th>\n",
       "      <th>CUSTOMER_NO</th>\n",
       "      <th>ITEM</th>\n",
       "      <th>NS_ORDER</th>\n",
       "      <th>NS_SHIP</th>\n",
       "    </tr>\n",
       "  </thead>\n",
       "  <tbody>\n",
       "    <tr>\n",
       "      <th>0</th>\n",
       "      <td>528758</td>\n",
       "      <td>Tuesday, January 3, 2017</td>\n",
       "      <td>1</td>\n",
       "      <td>1358538.0</td>\n",
       "      <td>111931</td>\n",
       "      <td>70.0</td>\n",
       "      <td>70.0</td>\n",
       "    </tr>\n",
       "    <tr>\n",
       "      <th>1</th>\n",
       "      <td>528791</td>\n",
       "      <td>Tuesday, January 3, 2017</td>\n",
       "      <td>1</td>\n",
       "      <td>1254798.0</td>\n",
       "      <td>1029071</td>\n",
       "      <td>10.0</td>\n",
       "      <td>10.0</td>\n",
       "    </tr>\n",
       "    <tr>\n",
       "      <th>2</th>\n",
       "      <td>528791</td>\n",
       "      <td>Tuesday, January 3, 2017</td>\n",
       "      <td>2</td>\n",
       "      <td>1254798.0</td>\n",
       "      <td>1033341</td>\n",
       "      <td>10.0</td>\n",
       "      <td>10.0</td>\n",
       "    </tr>\n",
       "    <tr>\n",
       "      <th>3</th>\n",
       "      <td>528791</td>\n",
       "      <td>Tuesday, January 3, 2017</td>\n",
       "      <td>3</td>\n",
       "      <td>1254798.0</td>\n",
       "      <td>1040827</td>\n",
       "      <td>5.0</td>\n",
       "      <td>5.0</td>\n",
       "    </tr>\n",
       "    <tr>\n",
       "      <th>4</th>\n",
       "      <td>528791</td>\n",
       "      <td>Tuesday, January 3, 2017</td>\n",
       "      <td>4</td>\n",
       "      <td>1254798.0</td>\n",
       "      <td>10106111</td>\n",
       "      <td>10.0</td>\n",
       "      <td>10.0</td>\n",
       "    </tr>\n",
       "  </tbody>\n",
       "</table>\n",
       "</div>"
      ],
      "text/plain": [
       "   ORDER_NO                      DATE  LINE  CUSTOMER_NO      ITEM  NS_ORDER  \\\n",
       "0    528758  Tuesday, January 3, 2017     1    1358538.0    111931      70.0   \n",
       "1    528791  Tuesday, January 3, 2017     1    1254798.0   1029071      10.0   \n",
       "2    528791  Tuesday, January 3, 2017     2    1254798.0   1033341      10.0   \n",
       "3    528791  Tuesday, January 3, 2017     3    1254798.0   1040827       5.0   \n",
       "4    528791  Tuesday, January 3, 2017     4    1254798.0  10106111      10.0   \n",
       "\n",
       "   NS_SHIP  \n",
       "0     70.0  \n",
       "1     10.0  \n",
       "2     10.0  \n",
       "3      5.0  \n",
       "4     10.0  "
      ]
     },
     "execution_count": 68,
     "metadata": {},
     "output_type": "execute_result"
    }
   ],
   "source": [
    "#Lectura de los datos \"Sales test\"\n",
    "df = pd.read_csv('sales.csv')\n",
    "df.head()"
   ]
  },
  {
   "cell_type": "markdown",
   "metadata": {},
   "source": [
    "* ORDER_NO: Identificador de la orden\n",
    "* DATE: Fecha de la orden\n",
    "* LINE: Línea de embarque\n",
    "* CUSTOMER_NO: Identificador del cliente\n",
    "* ITEM: Identificador del SKU\n",
    "* NS_ORDER: Cantidad de items ordenados\n",
    "* NS_SHIPED: Cantidad de items despachados"
   ]
  },
  {
   "cell_type": "code",
   "execution_count": 69,
   "metadata": {},
   "outputs": [],
   "source": [
    "#Convierto la fecha de formato string a formato date\n",
    "def string_to_date(date_str):\n",
    "     return datetime.strptime(date_str, \"%A, %B %d, %Y\")\n",
    "\n",
    "df['DATE'] = df['DATE'].apply(string_to_date)"
   ]
  },
  {
   "cell_type": "markdown",
   "metadata": {},
   "source": [
    "### Volumen diario de ordenes"
   ]
  },
  {
   "cell_type": "code",
   "execution_count": 62,
   "metadata": {},
   "outputs": [
    {
     "data": {
      "text/html": [
       "<div>\n",
       "<style scoped>\n",
       "    .dataframe tbody tr th:only-of-type {\n",
       "        vertical-align: middle;\n",
       "    }\n",
       "\n",
       "    .dataframe tbody tr th {\n",
       "        vertical-align: top;\n",
       "    }\n",
       "\n",
       "    .dataframe thead th {\n",
       "        text-align: right;\n",
       "    }\n",
       "</style>\n",
       "<table border=\"1\" class=\"dataframe\">\n",
       "  <thead>\n",
       "    <tr style=\"text-align: right;\">\n",
       "      <th></th>\n",
       "      <th>DATE</th>\n",
       "      <th>NS_ORDER</th>\n",
       "    </tr>\n",
       "  </thead>\n",
       "  <tbody>\n",
       "    <tr>\n",
       "      <th>0</th>\n",
       "      <td>2017-01-03</td>\n",
       "      <td>4630.0</td>\n",
       "    </tr>\n",
       "    <tr>\n",
       "      <th>1</th>\n",
       "      <td>2017-01-04</td>\n",
       "      <td>2690.0</td>\n",
       "    </tr>\n",
       "    <tr>\n",
       "      <th>2</th>\n",
       "      <td>2017-01-05</td>\n",
       "      <td>1213.0</td>\n",
       "    </tr>\n",
       "    <tr>\n",
       "      <th>3</th>\n",
       "      <td>2017-01-06</td>\n",
       "      <td>3070.0</td>\n",
       "    </tr>\n",
       "    <tr>\n",
       "      <th>4</th>\n",
       "      <td>2017-01-07</td>\n",
       "      <td>449.0</td>\n",
       "    </tr>\n",
       "  </tbody>\n",
       "</table>\n",
       "</div>"
      ],
      "text/plain": [
       "        DATE  NS_ORDER\n",
       "0 2017-01-03    4630.0\n",
       "1 2017-01-04    2690.0\n",
       "2 2017-01-05    1213.0\n",
       "3 2017-01-06    3070.0\n",
       "4 2017-01-07     449.0"
      ]
     },
     "execution_count": 62,
     "metadata": {},
     "output_type": "execute_result"
    }
   ],
   "source": [
    "#Volumen diario\n",
    "df_daily_volume = df[['DATE','NS_ORDER']].groupby(['DATE']).sum().reset_index()\n",
    "df_daily_volume.head()"
   ]
  },
  {
   "cell_type": "code",
   "execution_count": 70,
   "metadata": {},
   "outputs": [
    {
     "data": {
      "application/vnd.plotly.v1+json": {
       "config": {
        "plotlyServerURL": "https://plot.ly"
       },
       "data": [
        {
         "hovertemplate": "DATE=%{x}<br>NS_ORDER=%{y}<extra></extra>",
         "legendgroup": "",
         "line": {
          "color": "#636efa",
          "dash": "solid"
         },
         "marker": {
          "symbol": "circle"
         },
         "mode": "lines",
         "name": "",
         "orientation": "v",
         "showlegend": false,
         "type": "scatter",
         "x": [
          "2017-01-03T00:00:00",
          "2017-01-04T00:00:00",
          "2017-01-05T00:00:00",
          "2017-01-06T00:00:00",
          "2017-01-07T00:00:00",
          "2017-01-09T00:00:00",
          "2017-01-10T00:00:00",
          "2017-01-11T00:00:00",
          "2017-01-12T00:00:00",
          "2017-01-13T00:00:00",
          "2017-01-14T00:00:00",
          "2017-01-16T00:00:00",
          "2017-01-17T00:00:00",
          "2017-01-18T00:00:00",
          "2017-01-19T00:00:00",
          "2017-01-20T00:00:00",
          "2017-01-21T00:00:00",
          "2017-01-23T00:00:00",
          "2017-01-24T00:00:00",
          "2017-01-25T00:00:00",
          "2017-01-26T00:00:00",
          "2017-01-27T00:00:00",
          "2017-01-28T00:00:00",
          "2017-01-29T00:00:00",
          "2017-01-30T00:00:00",
          "2017-01-31T00:00:00",
          "2017-02-02T00:00:00",
          "2017-02-03T00:00:00",
          "2017-02-04T00:00:00",
          "2017-02-05T00:00:00",
          "2017-02-06T00:00:00",
          "2017-02-07T00:00:00",
          "2017-02-08T00:00:00",
          "2017-02-09T00:00:00",
          "2017-02-10T00:00:00",
          "2017-02-11T00:00:00",
          "2017-02-13T00:00:00",
          "2017-02-14T00:00:00",
          "2017-02-15T00:00:00",
          "2017-02-16T00:00:00",
          "2017-02-17T00:00:00",
          "2017-02-18T00:00:00",
          "2017-02-19T00:00:00",
          "2017-02-20T00:00:00",
          "2017-02-21T00:00:00",
          "2017-02-22T00:00:00",
          "2017-02-23T00:00:00",
          "2017-02-24T00:00:00",
          "2017-02-25T00:00:00",
          "2017-02-27T00:00:00",
          "2017-02-28T00:00:00"
         ],
         "xaxis": "x",
         "y": [
          4630,
          2690,
          1213,
          3070,
          449,
          1544,
          1815,
          2959,
          2562,
          732,
          856,
          7607,
          4033,
          6181,
          3777,
          3263,
          956,
          1662,
          3750,
          8358,
          10363,
          3312,
          6159,
          9,
          7596,
          3103,
          1620,
          2562,
          2721,
          361,
          985,
          869,
          3933,
          2837,
          4599,
          991,
          6270,
          7196,
          831,
          4761,
          1348,
          539,
          581,
          1587,
          3785,
          4101,
          3622,
          16656,
          3312,
          12808,
          1711
         ],
         "yaxis": "y"
        }
       ],
       "layout": {
        "legend": {
         "tracegroupgap": 0
        },
        "margin": {
         "t": 60
        },
        "template": {
         "data": {
          "bar": [
           {
            "error_x": {
             "color": "#2a3f5f"
            },
            "error_y": {
             "color": "#2a3f5f"
            },
            "marker": {
             "line": {
              "color": "#E5ECF6",
              "width": 0.5
             },
             "pattern": {
              "fillmode": "overlay",
              "size": 10,
              "solidity": 0.2
             }
            },
            "type": "bar"
           }
          ],
          "barpolar": [
           {
            "marker": {
             "line": {
              "color": "#E5ECF6",
              "width": 0.5
             },
             "pattern": {
              "fillmode": "overlay",
              "size": 10,
              "solidity": 0.2
             }
            },
            "type": "barpolar"
           }
          ],
          "carpet": [
           {
            "aaxis": {
             "endlinecolor": "#2a3f5f",
             "gridcolor": "white",
             "linecolor": "white",
             "minorgridcolor": "white",
             "startlinecolor": "#2a3f5f"
            },
            "baxis": {
             "endlinecolor": "#2a3f5f",
             "gridcolor": "white",
             "linecolor": "white",
             "minorgridcolor": "white",
             "startlinecolor": "#2a3f5f"
            },
            "type": "carpet"
           }
          ],
          "choropleth": [
           {
            "colorbar": {
             "outlinewidth": 0,
             "ticks": ""
            },
            "type": "choropleth"
           }
          ],
          "contour": [
           {
            "colorbar": {
             "outlinewidth": 0,
             "ticks": ""
            },
            "colorscale": [
             [
              0,
              "#0d0887"
             ],
             [
              0.1111111111111111,
              "#46039f"
             ],
             [
              0.2222222222222222,
              "#7201a8"
             ],
             [
              0.3333333333333333,
              "#9c179e"
             ],
             [
              0.4444444444444444,
              "#bd3786"
             ],
             [
              0.5555555555555556,
              "#d8576b"
             ],
             [
              0.6666666666666666,
              "#ed7953"
             ],
             [
              0.7777777777777778,
              "#fb9f3a"
             ],
             [
              0.8888888888888888,
              "#fdca26"
             ],
             [
              1,
              "#f0f921"
             ]
            ],
            "type": "contour"
           }
          ],
          "contourcarpet": [
           {
            "colorbar": {
             "outlinewidth": 0,
             "ticks": ""
            },
            "type": "contourcarpet"
           }
          ],
          "heatmap": [
           {
            "colorbar": {
             "outlinewidth": 0,
             "ticks": ""
            },
            "colorscale": [
             [
              0,
              "#0d0887"
             ],
             [
              0.1111111111111111,
              "#46039f"
             ],
             [
              0.2222222222222222,
              "#7201a8"
             ],
             [
              0.3333333333333333,
              "#9c179e"
             ],
             [
              0.4444444444444444,
              "#bd3786"
             ],
             [
              0.5555555555555556,
              "#d8576b"
             ],
             [
              0.6666666666666666,
              "#ed7953"
             ],
             [
              0.7777777777777778,
              "#fb9f3a"
             ],
             [
              0.8888888888888888,
              "#fdca26"
             ],
             [
              1,
              "#f0f921"
             ]
            ],
            "type": "heatmap"
           }
          ],
          "heatmapgl": [
           {
            "colorbar": {
             "outlinewidth": 0,
             "ticks": ""
            },
            "colorscale": [
             [
              0,
              "#0d0887"
             ],
             [
              0.1111111111111111,
              "#46039f"
             ],
             [
              0.2222222222222222,
              "#7201a8"
             ],
             [
              0.3333333333333333,
              "#9c179e"
             ],
             [
              0.4444444444444444,
              "#bd3786"
             ],
             [
              0.5555555555555556,
              "#d8576b"
             ],
             [
              0.6666666666666666,
              "#ed7953"
             ],
             [
              0.7777777777777778,
              "#fb9f3a"
             ],
             [
              0.8888888888888888,
              "#fdca26"
             ],
             [
              1,
              "#f0f921"
             ]
            ],
            "type": "heatmapgl"
           }
          ],
          "histogram": [
           {
            "marker": {
             "pattern": {
              "fillmode": "overlay",
              "size": 10,
              "solidity": 0.2
             }
            },
            "type": "histogram"
           }
          ],
          "histogram2d": [
           {
            "colorbar": {
             "outlinewidth": 0,
             "ticks": ""
            },
            "colorscale": [
             [
              0,
              "#0d0887"
             ],
             [
              0.1111111111111111,
              "#46039f"
             ],
             [
              0.2222222222222222,
              "#7201a8"
             ],
             [
              0.3333333333333333,
              "#9c179e"
             ],
             [
              0.4444444444444444,
              "#bd3786"
             ],
             [
              0.5555555555555556,
              "#d8576b"
             ],
             [
              0.6666666666666666,
              "#ed7953"
             ],
             [
              0.7777777777777778,
              "#fb9f3a"
             ],
             [
              0.8888888888888888,
              "#fdca26"
             ],
             [
              1,
              "#f0f921"
             ]
            ],
            "type": "histogram2d"
           }
          ],
          "histogram2dcontour": [
           {
            "colorbar": {
             "outlinewidth": 0,
             "ticks": ""
            },
            "colorscale": [
             [
              0,
              "#0d0887"
             ],
             [
              0.1111111111111111,
              "#46039f"
             ],
             [
              0.2222222222222222,
              "#7201a8"
             ],
             [
              0.3333333333333333,
              "#9c179e"
             ],
             [
              0.4444444444444444,
              "#bd3786"
             ],
             [
              0.5555555555555556,
              "#d8576b"
             ],
             [
              0.6666666666666666,
              "#ed7953"
             ],
             [
              0.7777777777777778,
              "#fb9f3a"
             ],
             [
              0.8888888888888888,
              "#fdca26"
             ],
             [
              1,
              "#f0f921"
             ]
            ],
            "type": "histogram2dcontour"
           }
          ],
          "mesh3d": [
           {
            "colorbar": {
             "outlinewidth": 0,
             "ticks": ""
            },
            "type": "mesh3d"
           }
          ],
          "parcoords": [
           {
            "line": {
             "colorbar": {
              "outlinewidth": 0,
              "ticks": ""
             }
            },
            "type": "parcoords"
           }
          ],
          "pie": [
           {
            "automargin": true,
            "type": "pie"
           }
          ],
          "scatter": [
           {
            "fillpattern": {
             "fillmode": "overlay",
             "size": 10,
             "solidity": 0.2
            },
            "type": "scatter"
           }
          ],
          "scatter3d": [
           {
            "line": {
             "colorbar": {
              "outlinewidth": 0,
              "ticks": ""
             }
            },
            "marker": {
             "colorbar": {
              "outlinewidth": 0,
              "ticks": ""
             }
            },
            "type": "scatter3d"
           }
          ],
          "scattercarpet": [
           {
            "marker": {
             "colorbar": {
              "outlinewidth": 0,
              "ticks": ""
             }
            },
            "type": "scattercarpet"
           }
          ],
          "scattergeo": [
           {
            "marker": {
             "colorbar": {
              "outlinewidth": 0,
              "ticks": ""
             }
            },
            "type": "scattergeo"
           }
          ],
          "scattergl": [
           {
            "marker": {
             "colorbar": {
              "outlinewidth": 0,
              "ticks": ""
             }
            },
            "type": "scattergl"
           }
          ],
          "scattermapbox": [
           {
            "marker": {
             "colorbar": {
              "outlinewidth": 0,
              "ticks": ""
             }
            },
            "type": "scattermapbox"
           }
          ],
          "scatterpolar": [
           {
            "marker": {
             "colorbar": {
              "outlinewidth": 0,
              "ticks": ""
             }
            },
            "type": "scatterpolar"
           }
          ],
          "scatterpolargl": [
           {
            "marker": {
             "colorbar": {
              "outlinewidth": 0,
              "ticks": ""
             }
            },
            "type": "scatterpolargl"
           }
          ],
          "scatterternary": [
           {
            "marker": {
             "colorbar": {
              "outlinewidth": 0,
              "ticks": ""
             }
            },
            "type": "scatterternary"
           }
          ],
          "surface": [
           {
            "colorbar": {
             "outlinewidth": 0,
             "ticks": ""
            },
            "colorscale": [
             [
              0,
              "#0d0887"
             ],
             [
              0.1111111111111111,
              "#46039f"
             ],
             [
              0.2222222222222222,
              "#7201a8"
             ],
             [
              0.3333333333333333,
              "#9c179e"
             ],
             [
              0.4444444444444444,
              "#bd3786"
             ],
             [
              0.5555555555555556,
              "#d8576b"
             ],
             [
              0.6666666666666666,
              "#ed7953"
             ],
             [
              0.7777777777777778,
              "#fb9f3a"
             ],
             [
              0.8888888888888888,
              "#fdca26"
             ],
             [
              1,
              "#f0f921"
             ]
            ],
            "type": "surface"
           }
          ],
          "table": [
           {
            "cells": {
             "fill": {
              "color": "#EBF0F8"
             },
             "line": {
              "color": "white"
             }
            },
            "header": {
             "fill": {
              "color": "#C8D4E3"
             },
             "line": {
              "color": "white"
             }
            },
            "type": "table"
           }
          ]
         },
         "layout": {
          "annotationdefaults": {
           "arrowcolor": "#2a3f5f",
           "arrowhead": 0,
           "arrowwidth": 1
          },
          "autotypenumbers": "strict",
          "coloraxis": {
           "colorbar": {
            "outlinewidth": 0,
            "ticks": ""
           }
          },
          "colorscale": {
           "diverging": [
            [
             0,
             "#8e0152"
            ],
            [
             0.1,
             "#c51b7d"
            ],
            [
             0.2,
             "#de77ae"
            ],
            [
             0.3,
             "#f1b6da"
            ],
            [
             0.4,
             "#fde0ef"
            ],
            [
             0.5,
             "#f7f7f7"
            ],
            [
             0.6,
             "#e6f5d0"
            ],
            [
             0.7,
             "#b8e186"
            ],
            [
             0.8,
             "#7fbc41"
            ],
            [
             0.9,
             "#4d9221"
            ],
            [
             1,
             "#276419"
            ]
           ],
           "sequential": [
            [
             0,
             "#0d0887"
            ],
            [
             0.1111111111111111,
             "#46039f"
            ],
            [
             0.2222222222222222,
             "#7201a8"
            ],
            [
             0.3333333333333333,
             "#9c179e"
            ],
            [
             0.4444444444444444,
             "#bd3786"
            ],
            [
             0.5555555555555556,
             "#d8576b"
            ],
            [
             0.6666666666666666,
             "#ed7953"
            ],
            [
             0.7777777777777778,
             "#fb9f3a"
            ],
            [
             0.8888888888888888,
             "#fdca26"
            ],
            [
             1,
             "#f0f921"
            ]
           ],
           "sequentialminus": [
            [
             0,
             "#0d0887"
            ],
            [
             0.1111111111111111,
             "#46039f"
            ],
            [
             0.2222222222222222,
             "#7201a8"
            ],
            [
             0.3333333333333333,
             "#9c179e"
            ],
            [
             0.4444444444444444,
             "#bd3786"
            ],
            [
             0.5555555555555556,
             "#d8576b"
            ],
            [
             0.6666666666666666,
             "#ed7953"
            ],
            [
             0.7777777777777778,
             "#fb9f3a"
            ],
            [
             0.8888888888888888,
             "#fdca26"
            ],
            [
             1,
             "#f0f921"
            ]
           ]
          },
          "colorway": [
           "#636efa",
           "#EF553B",
           "#00cc96",
           "#ab63fa",
           "#FFA15A",
           "#19d3f3",
           "#FF6692",
           "#B6E880",
           "#FF97FF",
           "#FECB52"
          ],
          "font": {
           "color": "#2a3f5f"
          },
          "geo": {
           "bgcolor": "white",
           "lakecolor": "white",
           "landcolor": "#E5ECF6",
           "showlakes": true,
           "showland": true,
           "subunitcolor": "white"
          },
          "hoverlabel": {
           "align": "left"
          },
          "hovermode": "closest",
          "mapbox": {
           "style": "light"
          },
          "paper_bgcolor": "white",
          "plot_bgcolor": "#E5ECF6",
          "polar": {
           "angularaxis": {
            "gridcolor": "white",
            "linecolor": "white",
            "ticks": ""
           },
           "bgcolor": "#E5ECF6",
           "radialaxis": {
            "gridcolor": "white",
            "linecolor": "white",
            "ticks": ""
           }
          },
          "scene": {
           "xaxis": {
            "backgroundcolor": "#E5ECF6",
            "gridcolor": "white",
            "gridwidth": 2,
            "linecolor": "white",
            "showbackground": true,
            "ticks": "",
            "zerolinecolor": "white"
           },
           "yaxis": {
            "backgroundcolor": "#E5ECF6",
            "gridcolor": "white",
            "gridwidth": 2,
            "linecolor": "white",
            "showbackground": true,
            "ticks": "",
            "zerolinecolor": "white"
           },
           "zaxis": {
            "backgroundcolor": "#E5ECF6",
            "gridcolor": "white",
            "gridwidth": 2,
            "linecolor": "white",
            "showbackground": true,
            "ticks": "",
            "zerolinecolor": "white"
           }
          },
          "shapedefaults": {
           "line": {
            "color": "#2a3f5f"
           }
          },
          "ternary": {
           "aaxis": {
            "gridcolor": "white",
            "linecolor": "white",
            "ticks": ""
           },
           "baxis": {
            "gridcolor": "white",
            "linecolor": "white",
            "ticks": ""
           },
           "bgcolor": "#E5ECF6",
           "caxis": {
            "gridcolor": "white",
            "linecolor": "white",
            "ticks": ""
           }
          },
          "title": {
           "x": 0.05
          },
          "xaxis": {
           "automargin": true,
           "gridcolor": "white",
           "linecolor": "white",
           "ticks": "",
           "title": {
            "standoff": 15
           },
           "zerolinecolor": "white",
           "zerolinewidth": 2
          },
          "yaxis": {
           "automargin": true,
           "gridcolor": "white",
           "linecolor": "white",
           "ticks": "",
           "title": {
            "standoff": 15
           },
           "zerolinecolor": "white",
           "zerolinewidth": 2
          }
         }
        },
        "title": {
         "text": "Volumen de unidades ordenadas por día",
         "x": 0.5
        },
        "xaxis": {
         "anchor": "y",
         "domain": [
          0,
          1
         ],
         "title": {
          "text": "DATE"
         }
        },
        "yaxis": {
         "anchor": "x",
         "domain": [
          0,
          1
         ],
         "title": {
          "text": "NS_ORDER"
         }
        }
       }
      }
     },
     "metadata": {},
     "output_type": "display_data"
    }
   ],
   "source": [
    "#Realizo un gráfico de líneas con plotly\n",
    "fig = px.line(df_daily_volume, x=\"DATE\", y=\"NS_ORDER\")\n",
    "fig.update_layout(\n",
    "    title_text = \"Volumen de unidades ordenadas por día\",\n",
    "    title_x = 0.5\n",
    ")\n",
    "fig.show()"
   ]
  },
  {
   "cell_type": "markdown",
   "metadata": {},
   "source": [
    "### Volumen mensual de unidades ordenadas"
   ]
  },
  {
   "cell_type": "code",
   "execution_count": 82,
   "metadata": {},
   "outputs": [
    {
     "data": {
      "text/html": [
       "<div>\n",
       "<style scoped>\n",
       "    .dataframe tbody tr th:only-of-type {\n",
       "        vertical-align: middle;\n",
       "    }\n",
       "\n",
       "    .dataframe tbody tr th {\n",
       "        vertical-align: top;\n",
       "    }\n",
       "\n",
       "    .dataframe thead th {\n",
       "        text-align: right;\n",
       "    }\n",
       "</style>\n",
       "<table border=\"1\" class=\"dataframe\">\n",
       "  <thead>\n",
       "    <tr style=\"text-align: right;\">\n",
       "      <th></th>\n",
       "      <th>MONTH</th>\n",
       "      <th>NS_ORDER</th>\n",
       "    </tr>\n",
       "  </thead>\n",
       "  <tbody>\n",
       "    <tr>\n",
       "      <th>0</th>\n",
       "      <td>1</td>\n",
       "      <td>92649.0</td>\n",
       "    </tr>\n",
       "    <tr>\n",
       "      <th>1</th>\n",
       "      <td>2</td>\n",
       "      <td>90586.0</td>\n",
       "    </tr>\n",
       "  </tbody>\n",
       "</table>\n",
       "</div>"
      ],
      "text/plain": [
       "   MONTH  NS_ORDER\n",
       "0      1   92649.0\n",
       "1      2   90586.0"
      ]
     },
     "execution_count": 82,
     "metadata": {},
     "output_type": "execute_result"
    }
   ],
   "source": [
    "#Calculo de volumen mensual de unidades ordenadas\n",
    "df_monthly_volume = df[['DATE', 'NS_ORDER']].copy()\n",
    "df_monthly_volume['DATE'] = pd.to_datetime(df_monthly_volume['DATE'])\n",
    "df_monthly_volume['MONTH'] = df_monthly_volume['DATE'].dt.month\n",
    "df_monthly_summary = df_monthly_volume.groupby('MONTH')['NS_ORDER'].sum().reset_index()\n"
   ]
  },
  {
   "cell_type": "code",
   "execution_count": 84,
   "metadata": {},
   "outputs": [
    {
     "data": {
      "application/vnd.plotly.v1+json": {
       "config": {
        "plotlyServerURL": "https://plot.ly"
       },
       "data": [
        {
         "alignmentgroup": "True",
         "hovertemplate": "MONTH=%{x}<br>NS_ORDER=%{y}<extra></extra>",
         "legendgroup": "",
         "marker": {
          "color": "#636efa",
          "pattern": {
           "shape": ""
          }
         },
         "name": "",
         "offsetgroup": "",
         "orientation": "v",
         "showlegend": false,
         "textposition": "auto",
         "type": "bar",
         "x": [
          1,
          2
         ],
         "xaxis": "x",
         "y": [
          92649,
          90586
         ],
         "yaxis": "y"
        }
       ],
       "layout": {
        "barmode": "relative",
        "legend": {
         "tracegroupgap": 0
        },
        "margin": {
         "t": 60
        },
        "template": {
         "data": {
          "bar": [
           {
            "error_x": {
             "color": "#2a3f5f"
            },
            "error_y": {
             "color": "#2a3f5f"
            },
            "marker": {
             "line": {
              "color": "#E5ECF6",
              "width": 0.5
             },
             "pattern": {
              "fillmode": "overlay",
              "size": 10,
              "solidity": 0.2
             }
            },
            "type": "bar"
           }
          ],
          "barpolar": [
           {
            "marker": {
             "line": {
              "color": "#E5ECF6",
              "width": 0.5
             },
             "pattern": {
              "fillmode": "overlay",
              "size": 10,
              "solidity": 0.2
             }
            },
            "type": "barpolar"
           }
          ],
          "carpet": [
           {
            "aaxis": {
             "endlinecolor": "#2a3f5f",
             "gridcolor": "white",
             "linecolor": "white",
             "minorgridcolor": "white",
             "startlinecolor": "#2a3f5f"
            },
            "baxis": {
             "endlinecolor": "#2a3f5f",
             "gridcolor": "white",
             "linecolor": "white",
             "minorgridcolor": "white",
             "startlinecolor": "#2a3f5f"
            },
            "type": "carpet"
           }
          ],
          "choropleth": [
           {
            "colorbar": {
             "outlinewidth": 0,
             "ticks": ""
            },
            "type": "choropleth"
           }
          ],
          "contour": [
           {
            "colorbar": {
             "outlinewidth": 0,
             "ticks": ""
            },
            "colorscale": [
             [
              0,
              "#0d0887"
             ],
             [
              0.1111111111111111,
              "#46039f"
             ],
             [
              0.2222222222222222,
              "#7201a8"
             ],
             [
              0.3333333333333333,
              "#9c179e"
             ],
             [
              0.4444444444444444,
              "#bd3786"
             ],
             [
              0.5555555555555556,
              "#d8576b"
             ],
             [
              0.6666666666666666,
              "#ed7953"
             ],
             [
              0.7777777777777778,
              "#fb9f3a"
             ],
             [
              0.8888888888888888,
              "#fdca26"
             ],
             [
              1,
              "#f0f921"
             ]
            ],
            "type": "contour"
           }
          ],
          "contourcarpet": [
           {
            "colorbar": {
             "outlinewidth": 0,
             "ticks": ""
            },
            "type": "contourcarpet"
           }
          ],
          "heatmap": [
           {
            "colorbar": {
             "outlinewidth": 0,
             "ticks": ""
            },
            "colorscale": [
             [
              0,
              "#0d0887"
             ],
             [
              0.1111111111111111,
              "#46039f"
             ],
             [
              0.2222222222222222,
              "#7201a8"
             ],
             [
              0.3333333333333333,
              "#9c179e"
             ],
             [
              0.4444444444444444,
              "#bd3786"
             ],
             [
              0.5555555555555556,
              "#d8576b"
             ],
             [
              0.6666666666666666,
              "#ed7953"
             ],
             [
              0.7777777777777778,
              "#fb9f3a"
             ],
             [
              0.8888888888888888,
              "#fdca26"
             ],
             [
              1,
              "#f0f921"
             ]
            ],
            "type": "heatmap"
           }
          ],
          "heatmapgl": [
           {
            "colorbar": {
             "outlinewidth": 0,
             "ticks": ""
            },
            "colorscale": [
             [
              0,
              "#0d0887"
             ],
             [
              0.1111111111111111,
              "#46039f"
             ],
             [
              0.2222222222222222,
              "#7201a8"
             ],
             [
              0.3333333333333333,
              "#9c179e"
             ],
             [
              0.4444444444444444,
              "#bd3786"
             ],
             [
              0.5555555555555556,
              "#d8576b"
             ],
             [
              0.6666666666666666,
              "#ed7953"
             ],
             [
              0.7777777777777778,
              "#fb9f3a"
             ],
             [
              0.8888888888888888,
              "#fdca26"
             ],
             [
              1,
              "#f0f921"
             ]
            ],
            "type": "heatmapgl"
           }
          ],
          "histogram": [
           {
            "marker": {
             "pattern": {
              "fillmode": "overlay",
              "size": 10,
              "solidity": 0.2
             }
            },
            "type": "histogram"
           }
          ],
          "histogram2d": [
           {
            "colorbar": {
             "outlinewidth": 0,
             "ticks": ""
            },
            "colorscale": [
             [
              0,
              "#0d0887"
             ],
             [
              0.1111111111111111,
              "#46039f"
             ],
             [
              0.2222222222222222,
              "#7201a8"
             ],
             [
              0.3333333333333333,
              "#9c179e"
             ],
             [
              0.4444444444444444,
              "#bd3786"
             ],
             [
              0.5555555555555556,
              "#d8576b"
             ],
             [
              0.6666666666666666,
              "#ed7953"
             ],
             [
              0.7777777777777778,
              "#fb9f3a"
             ],
             [
              0.8888888888888888,
              "#fdca26"
             ],
             [
              1,
              "#f0f921"
             ]
            ],
            "type": "histogram2d"
           }
          ],
          "histogram2dcontour": [
           {
            "colorbar": {
             "outlinewidth": 0,
             "ticks": ""
            },
            "colorscale": [
             [
              0,
              "#0d0887"
             ],
             [
              0.1111111111111111,
              "#46039f"
             ],
             [
              0.2222222222222222,
              "#7201a8"
             ],
             [
              0.3333333333333333,
              "#9c179e"
             ],
             [
              0.4444444444444444,
              "#bd3786"
             ],
             [
              0.5555555555555556,
              "#d8576b"
             ],
             [
              0.6666666666666666,
              "#ed7953"
             ],
             [
              0.7777777777777778,
              "#fb9f3a"
             ],
             [
              0.8888888888888888,
              "#fdca26"
             ],
             [
              1,
              "#f0f921"
             ]
            ],
            "type": "histogram2dcontour"
           }
          ],
          "mesh3d": [
           {
            "colorbar": {
             "outlinewidth": 0,
             "ticks": ""
            },
            "type": "mesh3d"
           }
          ],
          "parcoords": [
           {
            "line": {
             "colorbar": {
              "outlinewidth": 0,
              "ticks": ""
             }
            },
            "type": "parcoords"
           }
          ],
          "pie": [
           {
            "automargin": true,
            "type": "pie"
           }
          ],
          "scatter": [
           {
            "fillpattern": {
             "fillmode": "overlay",
             "size": 10,
             "solidity": 0.2
            },
            "type": "scatter"
           }
          ],
          "scatter3d": [
           {
            "line": {
             "colorbar": {
              "outlinewidth": 0,
              "ticks": ""
             }
            },
            "marker": {
             "colorbar": {
              "outlinewidth": 0,
              "ticks": ""
             }
            },
            "type": "scatter3d"
           }
          ],
          "scattercarpet": [
           {
            "marker": {
             "colorbar": {
              "outlinewidth": 0,
              "ticks": ""
             }
            },
            "type": "scattercarpet"
           }
          ],
          "scattergeo": [
           {
            "marker": {
             "colorbar": {
              "outlinewidth": 0,
              "ticks": ""
             }
            },
            "type": "scattergeo"
           }
          ],
          "scattergl": [
           {
            "marker": {
             "colorbar": {
              "outlinewidth": 0,
              "ticks": ""
             }
            },
            "type": "scattergl"
           }
          ],
          "scattermapbox": [
           {
            "marker": {
             "colorbar": {
              "outlinewidth": 0,
              "ticks": ""
             }
            },
            "type": "scattermapbox"
           }
          ],
          "scatterpolar": [
           {
            "marker": {
             "colorbar": {
              "outlinewidth": 0,
              "ticks": ""
             }
            },
            "type": "scatterpolar"
           }
          ],
          "scatterpolargl": [
           {
            "marker": {
             "colorbar": {
              "outlinewidth": 0,
              "ticks": ""
             }
            },
            "type": "scatterpolargl"
           }
          ],
          "scatterternary": [
           {
            "marker": {
             "colorbar": {
              "outlinewidth": 0,
              "ticks": ""
             }
            },
            "type": "scatterternary"
           }
          ],
          "surface": [
           {
            "colorbar": {
             "outlinewidth": 0,
             "ticks": ""
            },
            "colorscale": [
             [
              0,
              "#0d0887"
             ],
             [
              0.1111111111111111,
              "#46039f"
             ],
             [
              0.2222222222222222,
              "#7201a8"
             ],
             [
              0.3333333333333333,
              "#9c179e"
             ],
             [
              0.4444444444444444,
              "#bd3786"
             ],
             [
              0.5555555555555556,
              "#d8576b"
             ],
             [
              0.6666666666666666,
              "#ed7953"
             ],
             [
              0.7777777777777778,
              "#fb9f3a"
             ],
             [
              0.8888888888888888,
              "#fdca26"
             ],
             [
              1,
              "#f0f921"
             ]
            ],
            "type": "surface"
           }
          ],
          "table": [
           {
            "cells": {
             "fill": {
              "color": "#EBF0F8"
             },
             "line": {
              "color": "white"
             }
            },
            "header": {
             "fill": {
              "color": "#C8D4E3"
             },
             "line": {
              "color": "white"
             }
            },
            "type": "table"
           }
          ]
         },
         "layout": {
          "annotationdefaults": {
           "arrowcolor": "#2a3f5f",
           "arrowhead": 0,
           "arrowwidth": 1
          },
          "autotypenumbers": "strict",
          "coloraxis": {
           "colorbar": {
            "outlinewidth": 0,
            "ticks": ""
           }
          },
          "colorscale": {
           "diverging": [
            [
             0,
             "#8e0152"
            ],
            [
             0.1,
             "#c51b7d"
            ],
            [
             0.2,
             "#de77ae"
            ],
            [
             0.3,
             "#f1b6da"
            ],
            [
             0.4,
             "#fde0ef"
            ],
            [
             0.5,
             "#f7f7f7"
            ],
            [
             0.6,
             "#e6f5d0"
            ],
            [
             0.7,
             "#b8e186"
            ],
            [
             0.8,
             "#7fbc41"
            ],
            [
             0.9,
             "#4d9221"
            ],
            [
             1,
             "#276419"
            ]
           ],
           "sequential": [
            [
             0,
             "#0d0887"
            ],
            [
             0.1111111111111111,
             "#46039f"
            ],
            [
             0.2222222222222222,
             "#7201a8"
            ],
            [
             0.3333333333333333,
             "#9c179e"
            ],
            [
             0.4444444444444444,
             "#bd3786"
            ],
            [
             0.5555555555555556,
             "#d8576b"
            ],
            [
             0.6666666666666666,
             "#ed7953"
            ],
            [
             0.7777777777777778,
             "#fb9f3a"
            ],
            [
             0.8888888888888888,
             "#fdca26"
            ],
            [
             1,
             "#f0f921"
            ]
           ],
           "sequentialminus": [
            [
             0,
             "#0d0887"
            ],
            [
             0.1111111111111111,
             "#46039f"
            ],
            [
             0.2222222222222222,
             "#7201a8"
            ],
            [
             0.3333333333333333,
             "#9c179e"
            ],
            [
             0.4444444444444444,
             "#bd3786"
            ],
            [
             0.5555555555555556,
             "#d8576b"
            ],
            [
             0.6666666666666666,
             "#ed7953"
            ],
            [
             0.7777777777777778,
             "#fb9f3a"
            ],
            [
             0.8888888888888888,
             "#fdca26"
            ],
            [
             1,
             "#f0f921"
            ]
           ]
          },
          "colorway": [
           "#636efa",
           "#EF553B",
           "#00cc96",
           "#ab63fa",
           "#FFA15A",
           "#19d3f3",
           "#FF6692",
           "#B6E880",
           "#FF97FF",
           "#FECB52"
          ],
          "font": {
           "color": "#2a3f5f"
          },
          "geo": {
           "bgcolor": "white",
           "lakecolor": "white",
           "landcolor": "#E5ECF6",
           "showlakes": true,
           "showland": true,
           "subunitcolor": "white"
          },
          "hoverlabel": {
           "align": "left"
          },
          "hovermode": "closest",
          "mapbox": {
           "style": "light"
          },
          "paper_bgcolor": "white",
          "plot_bgcolor": "#E5ECF6",
          "polar": {
           "angularaxis": {
            "gridcolor": "white",
            "linecolor": "white",
            "ticks": ""
           },
           "bgcolor": "#E5ECF6",
           "radialaxis": {
            "gridcolor": "white",
            "linecolor": "white",
            "ticks": ""
           }
          },
          "scene": {
           "xaxis": {
            "backgroundcolor": "#E5ECF6",
            "gridcolor": "white",
            "gridwidth": 2,
            "linecolor": "white",
            "showbackground": true,
            "ticks": "",
            "zerolinecolor": "white"
           },
           "yaxis": {
            "backgroundcolor": "#E5ECF6",
            "gridcolor": "white",
            "gridwidth": 2,
            "linecolor": "white",
            "showbackground": true,
            "ticks": "",
            "zerolinecolor": "white"
           },
           "zaxis": {
            "backgroundcolor": "#E5ECF6",
            "gridcolor": "white",
            "gridwidth": 2,
            "linecolor": "white",
            "showbackground": true,
            "ticks": "",
            "zerolinecolor": "white"
           }
          },
          "shapedefaults": {
           "line": {
            "color": "#2a3f5f"
           }
          },
          "ternary": {
           "aaxis": {
            "gridcolor": "white",
            "linecolor": "white",
            "ticks": ""
           },
           "baxis": {
            "gridcolor": "white",
            "linecolor": "white",
            "ticks": ""
           },
           "bgcolor": "#E5ECF6",
           "caxis": {
            "gridcolor": "white",
            "linecolor": "white",
            "ticks": ""
           }
          },
          "title": {
           "x": 0.05
          },
          "xaxis": {
           "automargin": true,
           "gridcolor": "white",
           "linecolor": "white",
           "ticks": "",
           "title": {
            "standoff": 15
           },
           "zerolinecolor": "white",
           "zerolinewidth": 2
          },
          "yaxis": {
           "automargin": true,
           "gridcolor": "white",
           "linecolor": "white",
           "ticks": "",
           "title": {
            "standoff": 15
           },
           "zerolinecolor": "white",
           "zerolinewidth": 2
          }
         }
        },
        "title": {
         "text": "Unidades ordenadas por mes",
         "x": 0.5
        },
        "xaxis": {
         "anchor": "y",
         "domain": [
          0,
          1
         ],
         "title": {
          "text": "MONTH"
         }
        },
        "yaxis": {
         "anchor": "x",
         "domain": [
          0,
          1
         ],
         "title": {
          "text": "NS_ORDER"
         }
        }
       }
      }
     },
     "metadata": {},
     "output_type": "display_data"
    }
   ],
   "source": [
    "# Crear gráfico de barras\n",
    "fig = px.bar(df_monthly_summary, x='MONTH', y='NS_ORDER', )\n",
    "fig.update_layout(\n",
    "    title_text='Unidades ordenadas por mes',\n",
    "    title_x = 0.5\n",
    ")\n",
    "fig.show()"
   ]
  },
  {
   "cell_type": "markdown",
   "metadata": {},
   "source": [
    "### Análisis ABC por SKUs"
   ]
  },
  {
   "cell_type": "code",
   "execution_count": 6,
   "metadata": {},
   "outputs": [
    {
     "data": {
      "text/html": [
       "<div>\n",
       "<style scoped>\n",
       "    .dataframe tbody tr th:only-of-type {\n",
       "        vertical-align: middle;\n",
       "    }\n",
       "\n",
       "    .dataframe tbody tr th {\n",
       "        vertical-align: top;\n",
       "    }\n",
       "\n",
       "    .dataframe thead th {\n",
       "        text-align: right;\n",
       "    }\n",
       "</style>\n",
       "<table border=\"1\" class=\"dataframe\">\n",
       "  <thead>\n",
       "    <tr style=\"text-align: right;\">\n",
       "      <th></th>\n",
       "      <th>ITEM</th>\n",
       "      <th>NS_ORDER</th>\n",
       "    </tr>\n",
       "  </thead>\n",
       "  <tbody>\n",
       "    <tr>\n",
       "      <th>0</th>\n",
       "      <td>10098739</td>\n",
       "      <td>27173.0</td>\n",
       "    </tr>\n",
       "    <tr>\n",
       "      <th>1</th>\n",
       "      <td>111931</td>\n",
       "      <td>15575.0</td>\n",
       "    </tr>\n",
       "    <tr>\n",
       "      <th>2</th>\n",
       "      <td>1041106</td>\n",
       "      <td>13178.0</td>\n",
       "    </tr>\n",
       "    <tr>\n",
       "      <th>3</th>\n",
       "      <td>1040765</td>\n",
       "      <td>11980.0</td>\n",
       "    </tr>\n",
       "    <tr>\n",
       "      <th>4</th>\n",
       "      <td>110441</td>\n",
       "      <td>9600.0</td>\n",
       "    </tr>\n",
       "  </tbody>\n",
       "</table>\n",
       "</div>"
      ],
      "text/plain": [
       "       ITEM  NS_ORDER\n",
       "0  10098739   27173.0\n",
       "1    111931   15575.0\n",
       "2   1041106   13178.0\n",
       "3   1040765   11980.0\n",
       "4    110441    9600.0"
      ]
     },
     "execution_count": 6,
     "metadata": {},
     "output_type": "execute_result"
    }
   ],
   "source": [
    "#Agrupo las ventas por items y los orden de mayor a menor según la cantidad de ventas\n",
    "df_sku = df[['ITEM','NS_ORDER']].groupby(['ITEM']).sum().sort_values(by=['NS_ORDER'], ascending = False).reset_index()\n",
    "df_sku['ITEM'] = df_sku['ITEM'].astype(str)\n",
    "df_sku.head()"
   ]
  },
  {
   "cell_type": "code",
   "execution_count": 7,
   "metadata": {},
   "outputs": [
    {
     "data": {
      "text/html": [
       "<div>\n",
       "<style scoped>\n",
       "    .dataframe tbody tr th:only-of-type {\n",
       "        vertical-align: middle;\n",
       "    }\n",
       "\n",
       "    .dataframe tbody tr th {\n",
       "        vertical-align: top;\n",
       "    }\n",
       "\n",
       "    .dataframe thead th {\n",
       "        text-align: right;\n",
       "    }\n",
       "</style>\n",
       "<table border=\"1\" class=\"dataframe\">\n",
       "  <thead>\n",
       "    <tr style=\"text-align: right;\">\n",
       "      <th></th>\n",
       "      <th>ITEM</th>\n",
       "      <th>NS_ORDER</th>\n",
       "      <th>percentage</th>\n",
       "      <th>cumulative_percentage</th>\n",
       "    </tr>\n",
       "  </thead>\n",
       "  <tbody>\n",
       "    <tr>\n",
       "      <th>0</th>\n",
       "      <td>10098739</td>\n",
       "      <td>27173.0</td>\n",
       "      <td>0.148296</td>\n",
       "      <td>0.148296</td>\n",
       "    </tr>\n",
       "    <tr>\n",
       "      <th>1</th>\n",
       "      <td>111931</td>\n",
       "      <td>15575.0</td>\n",
       "      <td>0.085000</td>\n",
       "      <td>0.233296</td>\n",
       "    </tr>\n",
       "    <tr>\n",
       "      <th>2</th>\n",
       "      <td>1041106</td>\n",
       "      <td>13178.0</td>\n",
       "      <td>0.071919</td>\n",
       "      <td>0.305215</td>\n",
       "    </tr>\n",
       "    <tr>\n",
       "      <th>3</th>\n",
       "      <td>1040765</td>\n",
       "      <td>11980.0</td>\n",
       "      <td>0.065381</td>\n",
       "      <td>0.370595</td>\n",
       "    </tr>\n",
       "    <tr>\n",
       "      <th>4</th>\n",
       "      <td>110441</td>\n",
       "      <td>9600.0</td>\n",
       "      <td>0.052392</td>\n",
       "      <td>0.422987</td>\n",
       "    </tr>\n",
       "  </tbody>\n",
       "</table>\n",
       "</div>"
      ],
      "text/plain": [
       "       ITEM  NS_ORDER  percentage  cumulative_percentage\n",
       "0  10098739   27173.0    0.148296               0.148296\n",
       "1    111931   15575.0    0.085000               0.233296\n",
       "2   1041106   13178.0    0.071919               0.305215\n",
       "3   1040765   11980.0    0.065381               0.370595\n",
       "4    110441    9600.0    0.052392               0.422987"
      ]
     },
     "execution_count": 7,
     "metadata": {},
     "output_type": "execute_result"
    }
   ],
   "source": [
    "#Calculo el porcentaje de ventas de cada item y el porcentaje acumulado\n",
    "df_sku['percentage'] = df_sku['NS_ORDER'] / df_sku['NS_ORDER'].sum()\n",
    "df_sku['cumulative_percentage'] = df_sku['percentage'].cumsum()\n",
    "df_sku.head()"
   ]
  },
  {
   "cell_type": "code",
   "execution_count": 8,
   "metadata": {},
   "outputs": [],
   "source": [
    "#Categorizar los SKU\n",
    "def ABC(cum_percentage):\n",
    "    if cum_percentage >= 0.95:\n",
    "        category = 'C'\n",
    "    elif cum_percentage >= 0.8 and cum_percentage < 0.95:\n",
    "        category = 'B'\n",
    "    else:\n",
    "        category = 'A'\n",
    "    return category\n",
    "\n",
    "df_sku['category'] = df_sku['cumulative_percentage'].apply(ABC)"
   ]
  },
  {
   "cell_type": "code",
   "execution_count": 9,
   "metadata": {},
   "outputs": [
    {
     "data": {
      "application/vnd.plotly.v1+json": {
       "config": {
        "plotlyServerURL": "https://plot.ly"
       },
       "data": [
        {
         "mode": "lines",
         "name": "Porcentaje acumulado",
         "type": "scatter",
         "x": [
          "10098739",
          "111931",
          "1041106",
          "1040765",
          "110441",
          "1041105",
          "1040774",
          "10108314",
          "1041108",
          "1038323",
          "10131275",
          "10133703",
          "10135771",
          "10137990",
          "10135131",
          "10108292",
          "1038324",
          "10137992",
          "10108313",
          "1041107",
          "10135359",
          "10137993",
          "10135139",
          "10135358",
          "1040776",
          "10135132",
          "10135138",
          "10135140",
          "10106230",
          "10137996",
          "1029071",
          "10108290",
          "10105916",
          "1040726",
          "10136162",
          "1033341",
          "113106",
          "10106229",
          "10106111",
          "1040827",
          "10133320",
          "10108291",
          "10138004",
          "10133321",
          "1039305",
          "1040725",
          "1040991",
          "1029070",
          "10138006",
          "1039308",
          "1039306",
          "1039822",
          "10137995",
          "10138005",
          "10135364",
          "1039823",
          "1039311",
          "1029069",
          "1040992",
          "1039465",
          "10118563",
          "10118567",
          "1039467",
          "10115790"
         ],
         "xaxis": "x",
         "y": [
          0.14829590416678037,
          0.2332960406035965,
          0.30521461511174175,
          0.37059513739187383,
          0.42298687477829017,
          0.4693808497284907,
          0.5135972930935684,
          0.5473353889813628,
          0.5716757169754687,
          0.5948645182416024,
          0.6166889513466314,
          0.6379130624607744,
          0.6571124512238382,
          0.6754823041449505,
          0.6933227822195541,
          0.7109886211695364,
          0.727928616257811,
          0.7441318525390892,
          0.760225939367479,
          0.7760526100362922,
          0.7914372254209077,
          0.806456190138347,
          0.8212568559500096,
          0.835779190656807,
          0.8500559390946054,
          0.8633940022375639,
          0.8767156929625891,
          0.8878052773760472,
          0.8970993532894916,
          0.905765819848828,
          0.9131934401178814,
          0.920610145441646,
          0.9261058203945753,
          0.9314377711681721,
          0.9367096897426802,
          0.9417141921576119,
          0.9466695773187438,
          0.9510464703795674,
          0.9553960760771688,
          0.9595164679237047,
          0.963172974595465,
          0.9665948099435153,
          0.9699347832018994,
          0.9728818184298853,
          0.975812481239938,
          0.9786721969056132,
          0.9814827953174887,
          0.9839004556989661,
          0.9858869757415344,
          0.9877479739132811,
          0.9894670777962729,
          0.9911152345348871,
          0.9926706142385464,
          0.994165961743117,
          0.9954211804513332,
          0.9966272819057497,
          0.9978224684148773,
          0.998848473272028,
          0.9998417332933122,
          0.9998908505471119,
          0.9999399678009117,
          0.9999672551641338,
          0.9999945425273559,
          1.0000000000000002
         ],
         "yaxis": "y"
        },
        {
         "marker": {
          "color": "#636EFA"
         },
         "name": "Porcentaje A",
         "type": "bar",
         "x": [
          "10098739",
          "111931",
          "1041106",
          "1040765",
          "110441",
          "1041105",
          "1040774",
          "10108314",
          "1041108",
          "1038323",
          "10131275",
          "10133703",
          "10135771",
          "10137990",
          "10135131",
          "10108292",
          "1038324",
          "10137992",
          "10108313",
          "1041107",
          "10135359"
         ],
         "xaxis": "x",
         "y": [
          0.14829590416678037,
          0.08500013643681611,
          0.07191857450814527,
          0.06538052228013207,
          0.05239173738641635,
          0.04639397495020056,
          0.044216443365077636,
          0.03373809588779436,
          0.024340327994105928,
          0.023188801266133652,
          0.021824433105029063,
          0.02122411111414304,
          0.019199388763063825,
          0.018369852921112234,
          0.01784047807460365,
          0.017665838949982263,
          0.01693999508827462,
          0.01620323628127814,
          0.016094086828389774,
          0.015826670668813273,
          0.015384615384615385
         ],
         "yaxis": "y2"
        },
        {
         "marker": {
          "color": "#EF553B"
         },
         "name": "Porcentaje B",
         "type": "bar",
         "x": [
          "10137993",
          "10135139",
          "10135358",
          "1040776",
          "10135132",
          "10135138",
          "10135140",
          "10106230",
          "10137996",
          "1029071",
          "10108290",
          "10105916",
          "1040726",
          "10136162",
          "1033341",
          "113106"
         ],
         "xaxis": "x",
         "y": [
          0.015018964717439354,
          0.014800665811662618,
          0.014522334706797282,
          0.014276748437798456,
          0.013338063142958496,
          0.01332169072502524,
          0.011089584413458128,
          0.009294075913444484,
          0.008666466559336372,
          0.007427620269053401,
          0.007416705323764565,
          0.005495674952929299,
          0.005331950773596748,
          0.0052719185745081455,
          0.0050045024149316455,
          0.00495538516113188
         ],
         "yaxis": "y2"
        },
        {
         "marker": {
          "color": "#00CC96"
         },
         "name": "Porcentaje C",
         "type": "bar",
         "x": [
          "10106229",
          "10106111",
          "1040827",
          "10133320",
          "10108291",
          "10138004",
          "10133321",
          "1039305",
          "1040725",
          "1040991",
          "1029070",
          "10138006",
          "1039308",
          "1039306",
          "1039822",
          "10137995",
          "10138005",
          "10135364",
          "1039823",
          "1039311",
          "1029069",
          "1040992",
          "1039465",
          "10118563",
          "10118567",
          "1039467",
          "10115790"
         ],
         "xaxis": "x",
         "y": [
          0.004376893060823533,
          0.0043496056976014405,
          0.004120391846535869,
          0.003656506671760308,
          0.003421835348050318,
          0.0033399732583840424,
          0.00294703522798592,
          0.002930662810052665,
          0.002859715665675226,
          0.0028105984118754605,
          0.002417660381477338,
          0.0019865200425682864,
          0.0018609981717466642,
          0.0017191038829917865,
          0.0016481567386143476,
          0.0015553797036592354,
          0.0014953475045706333,
          0.001255218708216225,
          0.0012061014544164598,
          0.001195186509127623,
          0.0010260048571506535,
          0.0009932600212841432,
          0.00004911725379976533,
          0.00004911725379976533,
          0.00002728736322209185,
          0.00002728736322209185,
          0.00000545747264441837
         ],
         "yaxis": "y2"
        }
       ],
       "layout": {
        "template": {
         "data": {
          "bar": [
           {
            "error_x": {
             "color": "#2a3f5f"
            },
            "error_y": {
             "color": "#2a3f5f"
            },
            "marker": {
             "line": {
              "color": "#E5ECF6",
              "width": 0.5
             },
             "pattern": {
              "fillmode": "overlay",
              "size": 10,
              "solidity": 0.2
             }
            },
            "type": "bar"
           }
          ],
          "barpolar": [
           {
            "marker": {
             "line": {
              "color": "#E5ECF6",
              "width": 0.5
             },
             "pattern": {
              "fillmode": "overlay",
              "size": 10,
              "solidity": 0.2
             }
            },
            "type": "barpolar"
           }
          ],
          "carpet": [
           {
            "aaxis": {
             "endlinecolor": "#2a3f5f",
             "gridcolor": "white",
             "linecolor": "white",
             "minorgridcolor": "white",
             "startlinecolor": "#2a3f5f"
            },
            "baxis": {
             "endlinecolor": "#2a3f5f",
             "gridcolor": "white",
             "linecolor": "white",
             "minorgridcolor": "white",
             "startlinecolor": "#2a3f5f"
            },
            "type": "carpet"
           }
          ],
          "choropleth": [
           {
            "colorbar": {
             "outlinewidth": 0,
             "ticks": ""
            },
            "type": "choropleth"
           }
          ],
          "contour": [
           {
            "colorbar": {
             "outlinewidth": 0,
             "ticks": ""
            },
            "colorscale": [
             [
              0,
              "#0d0887"
             ],
             [
              0.1111111111111111,
              "#46039f"
             ],
             [
              0.2222222222222222,
              "#7201a8"
             ],
             [
              0.3333333333333333,
              "#9c179e"
             ],
             [
              0.4444444444444444,
              "#bd3786"
             ],
             [
              0.5555555555555556,
              "#d8576b"
             ],
             [
              0.6666666666666666,
              "#ed7953"
             ],
             [
              0.7777777777777778,
              "#fb9f3a"
             ],
             [
              0.8888888888888888,
              "#fdca26"
             ],
             [
              1,
              "#f0f921"
             ]
            ],
            "type": "contour"
           }
          ],
          "contourcarpet": [
           {
            "colorbar": {
             "outlinewidth": 0,
             "ticks": ""
            },
            "type": "contourcarpet"
           }
          ],
          "heatmap": [
           {
            "colorbar": {
             "outlinewidth": 0,
             "ticks": ""
            },
            "colorscale": [
             [
              0,
              "#0d0887"
             ],
             [
              0.1111111111111111,
              "#46039f"
             ],
             [
              0.2222222222222222,
              "#7201a8"
             ],
             [
              0.3333333333333333,
              "#9c179e"
             ],
             [
              0.4444444444444444,
              "#bd3786"
             ],
             [
              0.5555555555555556,
              "#d8576b"
             ],
             [
              0.6666666666666666,
              "#ed7953"
             ],
             [
              0.7777777777777778,
              "#fb9f3a"
             ],
             [
              0.8888888888888888,
              "#fdca26"
             ],
             [
              1,
              "#f0f921"
             ]
            ],
            "type": "heatmap"
           }
          ],
          "heatmapgl": [
           {
            "colorbar": {
             "outlinewidth": 0,
             "ticks": ""
            },
            "colorscale": [
             [
              0,
              "#0d0887"
             ],
             [
              0.1111111111111111,
              "#46039f"
             ],
             [
              0.2222222222222222,
              "#7201a8"
             ],
             [
              0.3333333333333333,
              "#9c179e"
             ],
             [
              0.4444444444444444,
              "#bd3786"
             ],
             [
              0.5555555555555556,
              "#d8576b"
             ],
             [
              0.6666666666666666,
              "#ed7953"
             ],
             [
              0.7777777777777778,
              "#fb9f3a"
             ],
             [
              0.8888888888888888,
              "#fdca26"
             ],
             [
              1,
              "#f0f921"
             ]
            ],
            "type": "heatmapgl"
           }
          ],
          "histogram": [
           {
            "marker": {
             "pattern": {
              "fillmode": "overlay",
              "size": 10,
              "solidity": 0.2
             }
            },
            "type": "histogram"
           }
          ],
          "histogram2d": [
           {
            "colorbar": {
             "outlinewidth": 0,
             "ticks": ""
            },
            "colorscale": [
             [
              0,
              "#0d0887"
             ],
             [
              0.1111111111111111,
              "#46039f"
             ],
             [
              0.2222222222222222,
              "#7201a8"
             ],
             [
              0.3333333333333333,
              "#9c179e"
             ],
             [
              0.4444444444444444,
              "#bd3786"
             ],
             [
              0.5555555555555556,
              "#d8576b"
             ],
             [
              0.6666666666666666,
              "#ed7953"
             ],
             [
              0.7777777777777778,
              "#fb9f3a"
             ],
             [
              0.8888888888888888,
              "#fdca26"
             ],
             [
              1,
              "#f0f921"
             ]
            ],
            "type": "histogram2d"
           }
          ],
          "histogram2dcontour": [
           {
            "colorbar": {
             "outlinewidth": 0,
             "ticks": ""
            },
            "colorscale": [
             [
              0,
              "#0d0887"
             ],
             [
              0.1111111111111111,
              "#46039f"
             ],
             [
              0.2222222222222222,
              "#7201a8"
             ],
             [
              0.3333333333333333,
              "#9c179e"
             ],
             [
              0.4444444444444444,
              "#bd3786"
             ],
             [
              0.5555555555555556,
              "#d8576b"
             ],
             [
              0.6666666666666666,
              "#ed7953"
             ],
             [
              0.7777777777777778,
              "#fb9f3a"
             ],
             [
              0.8888888888888888,
              "#fdca26"
             ],
             [
              1,
              "#f0f921"
             ]
            ],
            "type": "histogram2dcontour"
           }
          ],
          "mesh3d": [
           {
            "colorbar": {
             "outlinewidth": 0,
             "ticks": ""
            },
            "type": "mesh3d"
           }
          ],
          "parcoords": [
           {
            "line": {
             "colorbar": {
              "outlinewidth": 0,
              "ticks": ""
             }
            },
            "type": "parcoords"
           }
          ],
          "pie": [
           {
            "automargin": true,
            "type": "pie"
           }
          ],
          "scatter": [
           {
            "fillpattern": {
             "fillmode": "overlay",
             "size": 10,
             "solidity": 0.2
            },
            "type": "scatter"
           }
          ],
          "scatter3d": [
           {
            "line": {
             "colorbar": {
              "outlinewidth": 0,
              "ticks": ""
             }
            },
            "marker": {
             "colorbar": {
              "outlinewidth": 0,
              "ticks": ""
             }
            },
            "type": "scatter3d"
           }
          ],
          "scattercarpet": [
           {
            "marker": {
             "colorbar": {
              "outlinewidth": 0,
              "ticks": ""
             }
            },
            "type": "scattercarpet"
           }
          ],
          "scattergeo": [
           {
            "marker": {
             "colorbar": {
              "outlinewidth": 0,
              "ticks": ""
             }
            },
            "type": "scattergeo"
           }
          ],
          "scattergl": [
           {
            "marker": {
             "colorbar": {
              "outlinewidth": 0,
              "ticks": ""
             }
            },
            "type": "scattergl"
           }
          ],
          "scattermapbox": [
           {
            "marker": {
             "colorbar": {
              "outlinewidth": 0,
              "ticks": ""
             }
            },
            "type": "scattermapbox"
           }
          ],
          "scatterpolar": [
           {
            "marker": {
             "colorbar": {
              "outlinewidth": 0,
              "ticks": ""
             }
            },
            "type": "scatterpolar"
           }
          ],
          "scatterpolargl": [
           {
            "marker": {
             "colorbar": {
              "outlinewidth": 0,
              "ticks": ""
             }
            },
            "type": "scatterpolargl"
           }
          ],
          "scatterternary": [
           {
            "marker": {
             "colorbar": {
              "outlinewidth": 0,
              "ticks": ""
             }
            },
            "type": "scatterternary"
           }
          ],
          "surface": [
           {
            "colorbar": {
             "outlinewidth": 0,
             "ticks": ""
            },
            "colorscale": [
             [
              0,
              "#0d0887"
             ],
             [
              0.1111111111111111,
              "#46039f"
             ],
             [
              0.2222222222222222,
              "#7201a8"
             ],
             [
              0.3333333333333333,
              "#9c179e"
             ],
             [
              0.4444444444444444,
              "#bd3786"
             ],
             [
              0.5555555555555556,
              "#d8576b"
             ],
             [
              0.6666666666666666,
              "#ed7953"
             ],
             [
              0.7777777777777778,
              "#fb9f3a"
             ],
             [
              0.8888888888888888,
              "#fdca26"
             ],
             [
              1,
              "#f0f921"
             ]
            ],
            "type": "surface"
           }
          ],
          "table": [
           {
            "cells": {
             "fill": {
              "color": "#EBF0F8"
             },
             "line": {
              "color": "white"
             }
            },
            "header": {
             "fill": {
              "color": "#C8D4E3"
             },
             "line": {
              "color": "white"
             }
            },
            "type": "table"
           }
          ]
         },
         "layout": {
          "annotationdefaults": {
           "arrowcolor": "#2a3f5f",
           "arrowhead": 0,
           "arrowwidth": 1
          },
          "autotypenumbers": "strict",
          "coloraxis": {
           "colorbar": {
            "outlinewidth": 0,
            "ticks": ""
           }
          },
          "colorscale": {
           "diverging": [
            [
             0,
             "#8e0152"
            ],
            [
             0.1,
             "#c51b7d"
            ],
            [
             0.2,
             "#de77ae"
            ],
            [
             0.3,
             "#f1b6da"
            ],
            [
             0.4,
             "#fde0ef"
            ],
            [
             0.5,
             "#f7f7f7"
            ],
            [
             0.6,
             "#e6f5d0"
            ],
            [
             0.7,
             "#b8e186"
            ],
            [
             0.8,
             "#7fbc41"
            ],
            [
             0.9,
             "#4d9221"
            ],
            [
             1,
             "#276419"
            ]
           ],
           "sequential": [
            [
             0,
             "#0d0887"
            ],
            [
             0.1111111111111111,
             "#46039f"
            ],
            [
             0.2222222222222222,
             "#7201a8"
            ],
            [
             0.3333333333333333,
             "#9c179e"
            ],
            [
             0.4444444444444444,
             "#bd3786"
            ],
            [
             0.5555555555555556,
             "#d8576b"
            ],
            [
             0.6666666666666666,
             "#ed7953"
            ],
            [
             0.7777777777777778,
             "#fb9f3a"
            ],
            [
             0.8888888888888888,
             "#fdca26"
            ],
            [
             1,
             "#f0f921"
            ]
           ],
           "sequentialminus": [
            [
             0,
             "#0d0887"
            ],
            [
             0.1111111111111111,
             "#46039f"
            ],
            [
             0.2222222222222222,
             "#7201a8"
            ],
            [
             0.3333333333333333,
             "#9c179e"
            ],
            [
             0.4444444444444444,
             "#bd3786"
            ],
            [
             0.5555555555555556,
             "#d8576b"
            ],
            [
             0.6666666666666666,
             "#ed7953"
            ],
            [
             0.7777777777777778,
             "#fb9f3a"
            ],
            [
             0.8888888888888888,
             "#fdca26"
            ],
            [
             1,
             "#f0f921"
            ]
           ]
          },
          "colorway": [
           "#636efa",
           "#EF553B",
           "#00cc96",
           "#ab63fa",
           "#FFA15A",
           "#19d3f3",
           "#FF6692",
           "#B6E880",
           "#FF97FF",
           "#FECB52"
          ],
          "font": {
           "color": "#2a3f5f"
          },
          "geo": {
           "bgcolor": "white",
           "lakecolor": "white",
           "landcolor": "#E5ECF6",
           "showlakes": true,
           "showland": true,
           "subunitcolor": "white"
          },
          "hoverlabel": {
           "align": "left"
          },
          "hovermode": "closest",
          "mapbox": {
           "style": "light"
          },
          "paper_bgcolor": "white",
          "plot_bgcolor": "#E5ECF6",
          "polar": {
           "angularaxis": {
            "gridcolor": "white",
            "linecolor": "white",
            "ticks": ""
           },
           "bgcolor": "#E5ECF6",
           "radialaxis": {
            "gridcolor": "white",
            "linecolor": "white",
            "ticks": ""
           }
          },
          "scene": {
           "xaxis": {
            "backgroundcolor": "#E5ECF6",
            "gridcolor": "white",
            "gridwidth": 2,
            "linecolor": "white",
            "showbackground": true,
            "ticks": "",
            "zerolinecolor": "white"
           },
           "yaxis": {
            "backgroundcolor": "#E5ECF6",
            "gridcolor": "white",
            "gridwidth": 2,
            "linecolor": "white",
            "showbackground": true,
            "ticks": "",
            "zerolinecolor": "white"
           },
           "zaxis": {
            "backgroundcolor": "#E5ECF6",
            "gridcolor": "white",
            "gridwidth": 2,
            "linecolor": "white",
            "showbackground": true,
            "ticks": "",
            "zerolinecolor": "white"
           }
          },
          "shapedefaults": {
           "line": {
            "color": "#2a3f5f"
           }
          },
          "ternary": {
           "aaxis": {
            "gridcolor": "white",
            "linecolor": "white",
            "ticks": ""
           },
           "baxis": {
            "gridcolor": "white",
            "linecolor": "white",
            "ticks": ""
           },
           "bgcolor": "#E5ECF6",
           "caxis": {
            "gridcolor": "white",
            "linecolor": "white",
            "ticks": ""
           }
          },
          "title": {
           "x": 0.05
          },
          "xaxis": {
           "automargin": true,
           "gridcolor": "white",
           "linecolor": "white",
           "ticks": "",
           "title": {
            "standoff": 15
           },
           "zerolinecolor": "white",
           "zerolinewidth": 2
          },
          "yaxis": {
           "automargin": true,
           "gridcolor": "white",
           "linecolor": "white",
           "ticks": "",
           "title": {
            "standoff": 15
           },
           "zerolinecolor": "white",
           "zerolinewidth": 2
          }
         }
        },
        "title": {
         "text": "Clasificación ABC por SKU",
         "x": 0.5
        },
        "xaxis": {
         "anchor": "y",
         "domain": [
          0,
          0.94
         ]
        },
        "yaxis": {
         "anchor": "x",
         "domain": [
          0,
          1
         ]
        },
        "yaxis2": {
         "anchor": "x",
         "overlaying": "y",
         "range": [
          0,
          1
         ],
         "side": "right",
         "title": {
          "text": "Porcentaje"
         }
        }
       }
      }
     },
     "metadata": {},
     "output_type": "display_data"
    }
   ],
   "source": [
    "fig = make_subplots(specs=[[{\"secondary_y\": True}]])\n",
    "\n",
    "# Agregar gráfico de líneas\n",
    "fig.add_trace(\n",
    "    go.Scatter(x=df_sku['ITEM'], y=df_sku['cumulative_percentage'], mode='lines', name='Porcentaje acumulado'),\n",
    "    secondary_y=False\n",
    ")\n",
    "\n",
    "# Agregar gráfico de barras con colores distintos por categoría\n",
    "colors = px.colors.qualitative.Plotly\n",
    "\n",
    "categories = df_sku['category'].unique()\n",
    "for i, category in enumerate(categories):\n",
    "    df_category = df_sku[df_sku['category'] == category]\n",
    "    fig.add_trace(\n",
    "        go.Bar(\n",
    "            x=df_category['ITEM'],\n",
    "            y=df_category['percentage'],\n",
    "            name=f'Porcentaje {category}',\n",
    "            marker_color=colors[i % len(colors)]  # Cicla los colores si hay más categorías que colores\n",
    "        ),\n",
    "        secondary_y=True\n",
    "    )\n",
    "\n",
    "# Configurar el rango del eje Porcentaje\n",
    "fig.update_yaxes(\n",
    "    range=[0, 1], \n",
    "    title_text='Porcentaje',\n",
    "    secondary_y=True\n",
    ")\n",
    "\n",
    "fig.update_layout(\n",
    "    title_text='Clasificación ABC por SKU',  \n",
    "    title_x=0.5 \n",
    ")\n",
    "\n",
    "fig.show()"
   ]
  },
  {
   "cell_type": "markdown",
   "metadata": {},
   "source": [
    "Los SKU categoría \"A\" explican el 80% de las unidades vendidas, los SKU categoría \"B\" explican el 15% de las unidades vendidas y los SKU categoría \"C\" explican el 5% de unidades vendidas."
   ]
  },
  {
   "cell_type": "markdown",
   "metadata": {},
   "source": [
    "### Análisis ABC por Cliente"
   ]
  },
  {
   "cell_type": "code",
   "execution_count": 10,
   "metadata": {},
   "outputs": [
    {
     "data": {
      "text/html": [
       "<div>\n",
       "<style scoped>\n",
       "    .dataframe tbody tr th:only-of-type {\n",
       "        vertical-align: middle;\n",
       "    }\n",
       "\n",
       "    .dataframe tbody tr th {\n",
       "        vertical-align: top;\n",
       "    }\n",
       "\n",
       "    .dataframe thead th {\n",
       "        text-align: right;\n",
       "    }\n",
       "</style>\n",
       "<table border=\"1\" class=\"dataframe\">\n",
       "  <thead>\n",
       "    <tr style=\"text-align: right;\">\n",
       "      <th></th>\n",
       "      <th>CUSTOMER_NO</th>\n",
       "      <th>NS_ORDER</th>\n",
       "    </tr>\n",
       "  </thead>\n",
       "  <tbody>\n",
       "    <tr>\n",
       "      <th>0</th>\n",
       "      <td>1795849.0</td>\n",
       "      <td>14599.0</td>\n",
       "    </tr>\n",
       "    <tr>\n",
       "      <th>1</th>\n",
       "      <td>1255123.0</td>\n",
       "      <td>11629.0</td>\n",
       "    </tr>\n",
       "    <tr>\n",
       "      <th>2</th>\n",
       "      <td>1255548.0</td>\n",
       "      <td>11567.0</td>\n",
       "    </tr>\n",
       "    <tr>\n",
       "      <th>3</th>\n",
       "      <td>1740542.0</td>\n",
       "      <td>10697.0</td>\n",
       "    </tr>\n",
       "    <tr>\n",
       "      <th>4</th>\n",
       "      <td>1254798.0</td>\n",
       "      <td>9584.0</td>\n",
       "    </tr>\n",
       "  </tbody>\n",
       "</table>\n",
       "</div>"
      ],
      "text/plain": [
       "  CUSTOMER_NO  NS_ORDER\n",
       "0   1795849.0   14599.0\n",
       "1   1255123.0   11629.0\n",
       "2   1255548.0   11567.0\n",
       "3   1740542.0   10697.0\n",
       "4   1254798.0    9584.0"
      ]
     },
     "execution_count": 10,
     "metadata": {},
     "output_type": "execute_result"
    }
   ],
   "source": [
    "#Agrupo las ventas por cliente y los orden de mayor a menor según la cantidad de ventas\n",
    "df_customer = df[['CUSTOMER_NO','NS_ORDER']].groupby(['CUSTOMER_NO']).sum().sort_values(by=['NS_ORDER'], ascending = False).reset_index()\n",
    "df_customer['CUSTOMER_NO'] = df_customer['CUSTOMER_NO'].astype(str)\n",
    "df_customer.head()"
   ]
  },
  {
   "cell_type": "code",
   "execution_count": 11,
   "metadata": {},
   "outputs": [
    {
     "data": {
      "text/plain": [
       "(708, 4)"
      ]
     },
     "execution_count": 11,
     "metadata": {},
     "output_type": "execute_result"
    }
   ],
   "source": [
    "#Calculo el porcentaje de ventas a cada cliente y el porcentaje acumulado\n",
    "df_customer['percentage'] = df_customer['NS_ORDER'] / df_customer['NS_ORDER'].sum()\n",
    "df_customer['cumulative_percentage'] = df_customer['percentage'].cumsum()\n",
    "df_customer.shape"
   ]
  },
  {
   "cell_type": "code",
   "execution_count": 12,
   "metadata": {},
   "outputs": [],
   "source": [
    "#Categorizo a los clientes\n",
    "df_customer['category'] = df_sku['cumulative_percentage'].apply(ABC)"
   ]
  },
  {
   "cell_type": "code",
   "execution_count": 13,
   "metadata": {},
   "outputs": [
    {
     "data": {
      "application/vnd.plotly.v1+json": {
       "config": {
        "plotlyServerURL": "https://plot.ly"
       },
       "data": [
        {
         "mode": "lines",
         "name": "Porcentaje acumulado",
         "type": "scatter",
         "x": [
          "1795849.0",
          "1255123.0",
          "1255548.0",
          "1740542.0",
          "1254798.0",
          "1825549.0",
          "1369085.0",
          "1255216.0",
          "43825307.0",
          "2015040.0",
          "1842327.0",
          "43824564.0",
          "2203715.0",
          "43825305.0",
          "2203449.0",
          "1345459.0",
          "1510339.0",
          "43823856.0",
          "1418561.0",
          "1254704.0",
          "1255193.0",
          "1255122.0",
          "43824317.0",
          "2203719.0",
          "1254686.0",
          "43825356.0",
          "43823585.0",
          "1254612.0",
          "43823870.0",
          "1255557.0",
          "43824548.0",
          "1825211.0",
          "1255192.0",
          "1254740.0",
          "1255194.0",
          "2254513.0",
          "1254802.0",
          "43824321.0",
          "1254707.0",
          "1254765.0",
          "1254690.0",
          "1255585.0",
          "1254688.0",
          "1254687.0",
          "1255235.0",
          "1254731.0",
          "1254733.0",
          "1254720.0",
          "1551997.0",
          "1255614.0",
          "1509644.0",
          "43824769.0",
          "1254711.0",
          "1254734.0",
          "1402387.0",
          "1254691.0",
          "1464940.0",
          "1254695.0",
          "1254716.0",
          "1254737.0",
          "1255615.0",
          "1265792.0",
          "1254692.0",
          "1417063.0",
          "1276705.0",
          "43823998.0",
          "1254689.0",
          "1642075.0",
          "1254708.0",
          "2191635.0",
          "1254693.0",
          "1255624.0",
          "1254729.0",
          "1254732.0",
          "1255128.0",
          "1254782.0",
          "1656983.0",
          "1255626.0",
          "1255576.0",
          "1254721.0",
          "1912451.0",
          "1921557.0",
          "1551254.0",
          "2269693.0",
          "1254723.0",
          "1255618.0",
          "1912433.0",
          "1255612.0",
          "1633157.0",
          "1255587.0",
          "1254776.0",
          "1352917.0",
          "1254696.0",
          "1381747.0",
          "1833299.0",
          "1255617.0",
          "2247979.0",
          "2269727.0",
          "1353661.0",
          "1838684.0",
          "1255602.0",
          "1353248.0",
          "2037004.0",
          "2258543.0",
          "1265546.0",
          "1254706.0",
          "1255591.0",
          "43824263.0",
          "2060441.0",
          "1255628.0",
          "43823583.0",
          "1751514.0",
          "1850462.0",
          "43824056.0",
          "43824723.0",
          "2060237.0",
          "1255583.0",
          "1779624.0",
          "1254785.0",
          "1996297.0",
          "43823773.0",
          "2251447.0",
          "43824333.0",
          "1254775.0",
          "1408777.0",
          "1254728.0",
          "1255606.0",
          "1254783.0",
          "1751452.0",
          "1344787.0",
          "1254726.0",
          "2250374.0",
          "2269455.0",
          "2149846.0",
          "2053635.0",
          "1264969.0",
          "1967598.0",
          "1477237.0",
          "1264951.0",
          "2166331.0",
          "43824315.0",
          "43824409.0",
          "1607998.0",
          "1254725.0",
          "2270199.0",
          "1255590.0",
          "2250091.0",
          "1912432.0",
          "1356194.0",
          "2250000.0",
          "1673776.0",
          "1889873.0",
          "1953383.0",
          "2258569.0",
          "1858612.0",
          "1540637.0",
          "1475699.0",
          "2209040.0",
          "1493821.0",
          "1255630.0",
          "1255620.0",
          "1255613.0",
          "1358538.0",
          "2246978.0",
          "1544800.0",
          "43824030.0",
          "1751532.0",
          "43823779.0",
          "1930074.0",
          "1664631.0",
          "1255621.0",
          "43823581.0",
          "1254778.0",
          "43824313.0",
          "1332866.0",
          "1254779.0",
          "43823887.0",
          "1442428.0",
          "43824713.0",
          "1265795.0",
          "2057651.0",
          "1255575.0",
          "1353112.0",
          "1255581.0",
          "2229605.0",
          "1554575.0",
          "2269903.0",
          "1554503.0",
          "1912760.0",
          "43824777.0",
          "1254788.0",
          "43824721.0",
          "1497989.0",
          "2269865.0",
          "43824359.0",
          "1832989.0",
          "1353166.0",
          "2168676.0",
          "1431059.0",
          "43824731.0",
          "1325537.0",
          "2252839.0",
          "1255586.0",
          "1850371.0",
          "43823703.0",
          "2270200.0",
          "2079270.0",
          "43824349.0",
          "2246064.0",
          "1255622.0",
          "43823858.0",
          "43824775.0",
          "1254710.0",
          "43824513.0",
          "1804173.0",
          "43824511.0",
          "1255592.0",
          "1255603.0",
          "43824725.0",
          "1255588.0",
          "1254774.0",
          "1255574.0",
          "1953431.0",
          "1388032.0",
          "1254717.0",
          "43824735.0",
          "1254784.0",
          "2168582.0",
          "1255580.0",
          "1431057.0",
          "1493988.0",
          "1912593.0",
          "2247773.0",
          "1665188.0",
          "2073719.0",
          "1255619.0",
          "2075220.0",
          "1929313.0",
          "1325545.0",
          "1995627.0",
          "1953469.0",
          "43824028.0",
          "1255584.0",
          "2229469.0",
          "1995652.0",
          "2168596.0",
          "43824737.0",
          "43823775.0",
          "43824779.0",
          "43824715.0",
          "1346502.0",
          "2027378.0",
          "1264970.0",
          "2247534.0",
          "2133267.0",
          "1255579.0",
          "1476276.0",
          "2252887.0",
          "2269692.0",
          "1492473.0",
          "43825205.0",
          "1352961.0",
          "1347640.0",
          "2169530.0",
          "1951810.0",
          "1544842.0",
          "1336816.0",
          "1325219.0",
          "1623353.0",
          "43824138.0",
          "1781738.0",
          "1551061.0",
          "2269728.0",
          "2244992.0",
          "2247827.0",
          "1589313.0",
          "2104180.0",
          "1255582.0",
          "2269726.0",
          "1929235.0",
          "1497991.0",
          "1977944.0",
          "1995602.0",
          "1255589.0",
          "1347653.0",
          "2251769.0",
          "43824747.0",
          "1265766.0",
          "1680037.0",
          "1588750.0",
          "1673780.0",
          "1996063.0",
          "1700677.0",
          "2208690.0",
          "1727417.0",
          "43825209.0",
          "1735855.0",
          "2075217.0",
          "1487485.0",
          "1543903.0",
          "1464986.0",
          "43824717.0",
          "43824693.0",
          "1254703.0",
          "2269867.0",
          "2100565.0",
          "2255431.0",
          "1832940.0",
          "2269872.0",
          "1255629.0",
          "2075218.0",
          "2017466.0",
          "2215388.0",
          "1339586.0",
          "43825034.0",
          "2246047.0",
          "1876883.0",
          "1255160.0",
          "1255214.0",
          "1604938.0",
          "43824840.0",
          "2264626.0",
          "2247543.0",
          "1255611.0",
          "2251074.0",
          "43823852.0",
          "1751541.0",
          "1385014.0",
          "1335033.0",
          "43824108.0",
          "2255438.0",
          "1930116.0",
          "43823738.0",
          "43823777.0",
          "2251095.0",
          "43824751.0",
          "1332862.0",
          "2269721.0",
          "1476759.0",
          "1588754.0",
          "1667668.0",
          "1265382.0",
          "43824719.0",
          "1604097.0",
          "1475698.0",
          "2205150.0",
          "2270060.0",
          "43823573.0",
          "43825032.0",
          "2247545.0",
          "1353098.0",
          "43824771.0",
          "2269694.0",
          "1255625.0",
          "2100579.0",
          "2100570.0",
          "2229608.0",
          "1353114.0",
          "1876884.0",
          "1785351.0",
          "1254787.0",
          "1318752.0",
          "1781684.0",
          "43825291.0",
          "1254777.0",
          "1996132.0",
          "1255129.0",
          "2073758.0",
          "43823579.0",
          "1857833.0",
          "1255627.0",
          "2270059.0",
          "2269401.0",
          "2250372.0",
          "2252860.0",
          "2017225.0",
          "1522864.0",
          "2269795.0",
          "2027427.0",
          "1673777.0",
          "1254749.0",
          "1498107.0",
          "1876890.0",
          "2247537.0",
          "1876932.0",
          "43824269.0",
          "2247914.0",
          "43824968.0",
          "43824515.0",
          "2229609.0",
          "2168603.0",
          "43824974.0",
          "1311993.0",
          "43824170.0",
          "1957148.0",
          "1803960.0",
          "43824110.0",
          "2016291.0",
          "43823571.0",
          "2247774.0",
          "1254746.0",
          "1475700.0",
          "1384958.0",
          "2247544.0",
          "2073796.0",
          "1850370.0",
          "2027434.0",
          "2060310.0",
          "2075198.0",
          "2075088.0",
          "1529448.0",
          "2209042.0",
          "1543906.0",
          "43824271.0",
          "1876925.0",
          "43824504.0",
          "1255578.0",
          "2269739.0",
          "1442207.0",
          "1816460.0",
          "43825030.0",
          "2079338.0",
          "43824102.0",
          "43824070.0",
          "1384981.0",
          "2169508.0",
          "43824749.0",
          "1833483.0",
          "2247546.0",
          "1953390.0",
          "43824036.0",
          "1667714.0",
          "1265636.0",
          "2168589.0",
          "1589097.0",
          "43824168.0",
          "2246063.0",
          "43823791.0",
          "2100566.0",
          "43824134.0",
          "1953167.0",
          "1832979.0",
          "1779500.0",
          "1721474.0",
          "1265739.0",
          "1476247.0",
          "2016297.0",
          "1667662.0",
          "2075234.0",
          "2205146.0",
          "2075206.0",
          "1720967.0",
          "2075214.0",
          "43824265.0",
          "43824727.0",
          "43824773.0",
          "1255215.0",
          "2017228.0",
          "1255213.0",
          "2057664.0",
          "43823599.0",
          "2169497.0",
          "43824519.0",
          "1967664.0",
          "1857928.0",
          "1255212.0",
          "2247541.0",
          "1700308.0",
          "43824536.0",
          "2169531.0",
          "2017226.0",
          "1967163.0",
          "1838681.0",
          "1254781.0",
          "1589116.0",
          "1254738.0",
          "1797488.0",
          "2269448.0",
          "43824267.0",
          "1719700.0",
          "1967447.0",
          "1889872.0",
          "1476818.0",
          "43823640.0",
          "1843928.0",
          "1858614.0",
          "2252857.0",
          "1254736.0",
          "1255211.0",
          "43824538.0",
          "43825042.0",
          "43823597.0",
          "2252869.0",
          "1889874.0",
          "43825036.0",
          "1544032.0",
          "2270063.0",
          "1700442.0",
          "2251768.0",
          "2269695.0",
          "1604998.0",
          "43823736.0",
          "2060342.0",
          "1735851.0",
          "1739860.0",
          "43824351.0",
          "2247538.0",
          "1254745.0",
          "2252858.0",
          "43824877.0",
          "2246049.0",
          "1832987.0",
          "2247540.0",
          "43824753.0",
          "1967444.0",
          "1653134.0",
          "1751158.0",
          "2205145.0",
          "1569915.0",
          "2270058.0",
          "1967893.0",
          "1527817.0",
          "2017221.0",
          "43824254.0",
          "1968013.0",
          "1795855.0",
          "1255510.0",
          "43824470.0",
          "2015638.0",
          "43824506.0",
          "2169539.0",
          "43824972.0",
          "43823589.0",
          "2205147.0",
          "2250089.0",
          "43824256.0",
          "43824087.0",
          "1857843.0",
          "43823701.0",
          "1473294.0",
          "1466843.0",
          "1680038.0",
          "1543985.0",
          "2247547.0",
          "43823567.0",
          "1605165.0",
          "2250090.0",
          "1967671.0",
          "43824172.0",
          "1858597.0",
          "1953384.0",
          "43824357.0",
          "1255512.0",
          "2252864.0",
          "2246066.0",
          "2060343.0",
          "1653099.0",
          "1953449.0",
          "2264627.0",
          "1889959.0",
          "43824034.0",
          "1876885.0",
          "2028255.0",
          "1255498.0",
          "2169538.0",
          "2270127.0",
          "43824540.0",
          "2269696.0",
          "43824502.0",
          "2015053.0",
          "1779066.0",
          "2073773.0",
          "2246068.0",
          "43824099.0",
          "1889956.0",
          "43824689.0",
          "43824355.0",
          "43824353.0",
          "1751465.0",
          "1442304.0",
          "43824546.0",
          "1832951.0",
          "43824885.0",
          "2094778.0",
          "1255210.0",
          "43824468.0",
          "43823994.0",
          "1254747.0",
          "43825040.0",
          "2231382.0",
          "1265767.0",
          "43824387.0",
          "43824140.0",
          "43824542.0",
          "1665298.0",
          "1634362.0",
          "43824032.0",
          "2073755.0",
          "43824946.0",
          "43824049.0",
          "2017224.0",
          "2264899.0",
          "1876882.0",
          "1254744.0",
          "43824384.0",
          "1442419.0",
          "2229030.0",
          "43823935.0",
          "43824398.0",
          "1673779.0",
          "2094777.0",
          "1255351.0",
          "43824687.0",
          "43825048.0",
          "1537017.0",
          "1255549.0",
          "43823864.0",
          "1255453.0",
          "43824613.0",
          "1889962.0",
          "1255368.0",
          "1833293.0",
          "2073752.0",
          "1255486.0",
          "1254748.0",
          "43824363.0",
          "1461727.0",
          "43824258.0",
          "1255367.0",
          "1255448.0",
          "1395658.0",
          "1255469.0",
          "1466853.0",
          "43824347.0",
          "1255507.0",
          "1255511.0",
          "1255532.0",
          "2246075.0",
          "1263290.0",
          "1255500.0",
          "1255386.0",
          "1255353.0",
          "1255293.0",
          "1665228.0",
          "2073765.0",
          "1255463.0",
          "1889865.0",
          "1330504.0",
          "1255488.0",
          "1255487.0",
          "1425979.0",
          "1255522.0",
          "1255489.0",
          "2252891.0",
          "1255381.0",
          "1255379.0",
          "1255377.0",
          "1330419.0",
          "1255450.0",
          "1265769.0",
          "1255531.0",
          "43825046.0",
          "1255534.0",
          "43825201.0",
          "1255282.0",
          "1255267.0",
          "1255490.0",
          "43824345.0",
          "1255390.0",
          "1255433.0",
          "1255423.0",
          "1255405.0",
          "1389247.0",
          "1255347.0",
          "1255537.0",
          "1255455.0",
          "1254796.0",
          "1255298.0",
          "1255383.0",
          "1255484.0",
          "2250299.0",
          "1255303.0",
          "1330359.0",
          "1255497.0",
          "1593619.0",
          "1255506.0",
          "1255401.0",
          "1255514.0",
          "1255420.0",
          "1255459.0",
          "1255491.0",
          "1395708.0",
          "43825038.0",
          "1330632.0",
          "1255172.0",
          "1283004.0",
          "1735721.0",
          "1330040.0",
          "1255382.0",
          "1255396.0",
          "1255269.0",
          "1255536.0",
          "1255454.0",
          "1330567.0",
          "1255344.0",
          "1582521.0",
          "1255501.0",
          "1255451.0"
         ],
         "xaxis": "x",
         "y": [
          0.07967364313586378,
          0.143138592517805,
          0.2062651785957923,
          0.2646437634731356,
          0.3169481812972413,
          0.3644882255027697,
          0.40100417496657303,
          0.43748737959450984,
          0.46772723551723205,
          0.4943597020219937,
          0.5204682511528912,
          0.545523508063416,
          0.5647283542991243,
          0.578317461183726,
          0.5913553633312414,
          0.6042349987720688,
          0.6170491445411631,
          0.6298196305291021,
          0.6415750266051792,
          0.6531721559745682,
          0.6636614183971403,
          0.6739160094960024,
          0.683537533768112,
          0.6919529565858051,
          0.7001937402788768,
          0.708270799792616,
          0.7162441673261112,
          0.7239228313368078,
          0.7315469206210603,
          0.7381504625208065,
          0.743335061533004,
          0.7482740742762026,
          0.7523671787595164,
          0.7557453543264114,
          0.7589106884601741,
          0.7620541927033591,
          0.7649793980407673,
          0.7678609435970202,
          0.7707097443174066,
          0.7733184162414386,
          0.7754904903539172,
          0.7775970747946627,
          0.7795508500013645,
          0.7814937102627775,
          0.7834147406336127,
          0.7851993341883375,
          0.7868202035637298,
          0.7882227740333454,
          0.7895980571397389,
          0.7909405954102657,
          0.7922831336807926,
          0.7936147570060307,
          0.7949300079133355,
          0.7962398013479959,
          0.7975441373100118,
          0.7988048134908725,
          0.8000654896717332,
          0.8012934210167273,
          0.8025049799437882,
          0.8036947089802714,
          0.8048789805441102,
          0.806063252107949,
          0.8072311512538546,
          0.8083608480912492,
          0.8094905449286438,
          0.8106202417660384,
          0.8117444811307886,
          0.8128632630228944,
          0.8139820449150001,
          0.8150735394438838,
          0.8161377466095454,
          0.8171964963025625,
          0.8182497885229353,
          0.8192976232706636,
          0.8203290856004587,
          0.8213496329849649,
          0.8223701803694711,
          0.8233634403907553,
          0.8243457854667505,
          0.8253226730701014,
          0.8262886457281635,
          0.8272546183862256,
          0.8282205910442877,
          0.8291811062297053,
          0.8301197915245453,
          0.8310148170382299,
          0.8318989276066256,
          0.8327721232297326,
          0.8336453188528395,
          0.834513057003302,
          0.8353807951537645,
          0.8362430758315826,
          0.837083526618823,
          0.8379130624607746,
          0.8387371408300818,
          0.8395557617267445,
          0.8403689251507629,
          0.8411820885747813,
          0.8419952519987997,
          0.8427975004775291,
          0.8435997489562586,
          0.844401997434988,
          0.8451933309684286,
          0.8459846645018693,
          0.8467650830900211,
          0.8475291292602396,
          0.8482931754304581,
          0.8490517641280323,
          0.849804895352962,
          0.8505580265778917,
          0.8512947853848882,
          0.8520260867192403,
          0.8527573880535924,
          0.8534777744426556,
          0.8541981608317188,
          0.8549076322754933,
          0.8556171037192677,
          0.8563265751630421,
          0.8570305891341721,
          0.8577291456326577,
          0.8584222446584988,
          0.8591044287390511,
          0.8597866128196034,
          0.8604687969001558,
          0.8611509809807081,
          0.8618277075886159,
          0.8625044341965238,
          0.8631757033317873,
          0.8638469724670508,
          0.8645182416023143,
          0.8651731383196445,
          0.8658171200916859,
          0.8664556443910828,
          0.8670887112178354,
          0.8677217780445879,
          0.868349387398696,
          0.8689769967528042,
          0.8695991486342678,
          0.8702158430430871,
          0.8708325374519064,
          0.8714492318607256,
          0.8720604687969005,
          0.8726662482604309,
          0.8732665702513169,
          0.8738668922422029,
          0.8744672142330889,
          0.8750675362239749,
          0.8756624007422166,
          0.8762572652604582,
          0.8768521297786999,
          0.877441536824297,
          0.8780254863972498,
          0.8786039784975581,
          0.8791824705978665,
          0.8797555052255304,
          0.8803285398531943,
          0.8808961170082138,
          0.8814636941632333,
          0.8820312713182529,
          0.882593391000628,
          0.8831500532103587,
          0.8837012579474449,
          0.8842470052118867,
          0.8847818375310397,
          0.8853112123775483,
          0.8858351297514124,
          0.8863590471252766,
          0.8868829644991407,
          0.8874014244003605,
          0.8879198843015803,
          0.8884383442028001,
          0.8889568041040199,
          0.8894752640052397,
          0.889988266433815,
          0.8905012688623903,
          0.8910142712909657,
          0.8915218162468965,
          0.8920293612028274,
          0.8925369061587582,
          0.8930444511146891,
          0.89355199607062,
          0.8940540835539065,
          0.894556171037193,
          0.8950582585204795,
          0.895560346003766,
          0.8960624334870525,
          0.896564520970339,
          0.8970666084536255,
          0.8975632384642676,
          0.8980544110022652,
          0.8985455835402629,
          0.8990367560782606,
          0.8995279286162583,
          0.900019101154256,
          0.9005102736922537,
          0.9009959887576069,
          0.9014817038229601,
          0.9019565039430245,
          0.9024313040630889,
          0.9029061041831533,
          0.9033754468305732,
          0.9038393320053488,
          0.9043032171801244,
          0.9047616448822555,
          0.9052200725843866,
          0.9056785002865178,
          0.9061369279886489,
          0.90659535569078,
          0.9070537833929111,
          0.9075122110950422,
          0.9079706387971733,
          0.9084236090266601,
          0.9088765792561468,
          0.9093295494856336,
          0.9097825197151204,
          0.9102300324719627,
          0.910677545228805,
          0.9111250579856472,
          0.9115671132698452,
          0.9120091685540431,
          0.9124512238382411,
          0.912893279122439,
          0.913335334406637,
          0.9137719322181904,
          0.9142085300297439,
          0.9146451278412974,
          0.9150817256528508,
          0.9155128659917598,
          0.9159440063306689,
          0.9163751466695779,
          0.9168062870084869,
          0.9172374273473959,
          0.9176685676863049,
          0.9180997080252139,
          0.9185308483641229,
          0.9189565312303876,
          0.9193822140966522,
          0.9198078969629169,
          0.9202335798291815,
          0.9206538052228017,
          0.9210740306164219,
          0.9214942560100421,
          0.9219144814036623,
          0.9223292493246381,
          0.922744017245614,
          0.9231587851665898,
          0.9235735530875656,
          0.9239774060632526,
          0.9243812590389396,
          0.9247851120146267,
          0.9251889649903137,
          0.9255873604933562,
          0.9259857559963988,
          0.9263841514994413,
          0.9267825470024839,
          0.9271754850328819,
          0.92756842306328,
          0.9279613610936781,
          0.9283542991240762,
          0.9287363222091854,
          0.9291183452942947,
          0.929500368379404,
          0.9298769339918689,
          0.9302534996043338,
          0.9306300652167987,
          0.9310066308292636,
          0.931377738969084,
          0.9317488471089045,
          0.9321199552487249,
          0.9324910633885454,
          0.9328621715283658,
          0.9332332796681863,
          0.9336043878080067,
          0.9339700384751827,
          0.9343356891423586,
          0.9346958823368903,
          0.9350560755314219,
          0.9354162687259535,
          0.9357710044478407,
          0.9361257401697278,
          0.936480475891615,
          0.9368297541408578,
          0.9371790323901006,
          0.9375228531666989,
          0.9378666739432973,
          0.9382104947198956,
          0.9385543154964939,
          0.9388926788004479,
          0.9392310421044019,
          0.9395694054083559,
          0.9399077687123099,
          0.9402406745436194,
          0.9405735803749289,
          0.9409064862062384,
          0.9412393920375479,
          0.941566840396213,
          0.9418888312822337,
          0.9422108221682544,
          0.942532813054275,
          0.9428548039402957,
          0.9431767948263164,
          0.9434987857123371,
          0.9438207765983578,
          0.9441427674843785,
          0.9444593008977548,
          0.944775834311131,
          0.9450923677245072,
          0.9454034436652391,
          0.945714519605971,
          0.9460255955467028,
          0.9463366714874347,
          0.9466477474281666,
          0.9469479084236097,
          0.9472480694190527,
          0.9475482304144958,
          0.9478429339372944,
          0.9481376374600929,
          0.9484323409828915,
          0.9487215870330457,
          0.9490108330831998,
          0.9493000791333539,
          0.949589325183508,
          0.9498785712336622,
          0.9501678172838163,
          0.950451605861326,
          0.9507353944388358,
          0.9510191830163456,
          0.9513029715938554,
          0.9515813026987207,
          0.951859633803586,
          0.9521379649084513,
          0.9524162960133166,
          0.9526946271181819,
          0.9529729582230472,
          0.9532512893279125,
          0.9535241629601334,
          0.9537970365923544,
          0.9540699102245753,
          0.9543427838567963,
          0.9546156574890172,
          0.9548830736485937,
          0.9551504898081702,
          0.9554179059677467,
          0.9556853221273232,
          0.9559527382868996,
          0.9562201544464761,
          0.9564821131334083,
          0.9567440718203404,
          0.9570060305072725,
          0.9572679891942046,
          0.9575299478811368,
          0.9577919065680689,
          0.958053865255001,
          0.9583103664692887,
          0.9585668676835764,
          0.958823368897864,
          0.9590798701121517,
          0.9593363713264393,
          0.9595874150680825,
          0.9598384588097257,
          0.9600895025513689,
          0.9603405462930121,
          0.9605915900346553,
          0.9608371763036542,
          0.961082762572653,
          0.9613283488416519,
          0.9615739351106507,
          0.9618195213796495,
          0.9620651076486484,
          0.9623052364450028,
          0.9625453652413571,
          0.9627854940377115,
          0.9630256228340659,
          0.9632602941577759,
          0.9634949654814859,
          0.963729636805196,
          0.963964308128906,
          0.964198979452616,
          0.964433650776326,
          0.9646683221000361,
          0.9648975359511016,
          0.9651267498021672,
          0.9653559636532327,
          0.9655851775042983,
          0.9658143913553638,
          0.9660436052064294,
          0.9662673615848506,
          0.9664911179632718,
          0.966714874341693,
          0.9669386307201142,
          0.9671623870985354,
          0.9673806860043122,
          0.9675989849100889,
          0.9678172838158656,
          0.9680355827216424,
          0.9682538816274191,
          0.9684721805331958,
          0.9686904794389726,
          0.9689087783447493,
          0.969127077250526,
          0.9693453761563028,
          0.9695582175894351,
          0.9697710590225673,
          0.9699839004556996,
          0.9701967418888319,
          0.9704095833219641,
          0.9706224247550964,
          0.9708352661882287,
          0.971048107621361,
          0.9712609490544932,
          0.9714737904876255,
          0.9716811744481134,
          0.9718885584086013,
          0.9720959423690892,
          0.9723033263295772,
          0.9725107102900651,
          0.972718094250553,
          0.9729254782110409,
          0.9731328621715288,
          0.9733347886593723,
          0.9735367151472157,
          0.9737386416350592,
          0.9739405681229026,
          0.9741424946107461,
          0.9743444210985895,
          0.974546347586433,
          0.9747482740742764,
          0.9749502005621199,
          0.9751521270499633,
          0.9753485960651624,
          0.9755450650803615,
          0.9757415340955606,
          0.9759380031107597,
          0.9761344721259588,
          0.9763309411411579,
          0.976527410156357,
          0.9767238791715561,
          0.9769148907141108,
          0.9771059022566654,
          0.97729691379922,
          0.9774879253417746,
          0.9776789368843293,
          0.9778699484268839,
          0.9780555024967942,
          0.9782410565667045,
          0.9784266106366147,
          0.978612164706525,
          0.9787977187764353,
          0.9789832728463456,
          0.9791688269162558,
          0.9793543809861661,
          0.9795344775834319,
          0.9797145741806977,
          0.9798946707779636,
          0.9800747673752294,
          0.9802548639724952,
          0.9804295030971165,
          0.9806041422217379,
          0.9807787813463592,
          0.9809534204709806,
          0.9811226021229575,
          0.9812917837749345,
          0.9814609654269115,
          0.9816301470788885,
          0.9817993287308655,
          0.9819685103828425,
          0.9821376920348195,
          0.982301416214152,
          0.9824651403934845,
          0.9826288645728171,
          0.9827925887521496,
          0.9829508554588378,
          0.9831091221655259,
          0.9832673888722141,
          0.9834256555789023,
          0.9835839222855904,
          0.9837367315196341,
          0.9838895407536778,
          0.9840423499877216,
          0.9841951592217653,
          0.984347968455809,
          0.9845007776898527,
          0.984648129451252,
          0.9847954812126514,
          0.9849428329740507,
          0.9850901847354501,
          0.9852375364968494,
          0.9853794307856043,
          0.9855213250743592,
          0.9856632193631141,
          0.985805113651869,
          0.9859470079406238,
          0.9860889022293787,
          0.9862307965181336,
          0.9863726908068885,
          0.9865091276229989,
          0.9866455644391093,
          0.9867820012552198,
          0.9869184380713302,
          0.9870548748874406,
          0.987191311703551,
          0.9873277485196614,
          0.9874587278631275,
          0.9875897072065936,
          0.9877206865500596,
          0.9878516658935257,
          0.9879826452369918,
          0.9881136245804578,
          0.9882446039239239,
          0.98837558326739,
          0.988506562610856,
          0.9886320844816776,
          0.9887576063524992,
          0.9888776707506765,
          0.9889977351488537,
          0.9891177995470309,
          0.9892378639452082,
          0.9893579283433854,
          0.9894779927415627,
          0.9895980571397399,
          0.9897181215379172,
          0.9898381859360944,
          0.9899582503342716,
          0.9900783147324489,
          0.9901929216579817,
          0.9903075285835145,
          0.9904221355090472,
          0.99053674243458,
          0.9906513493601128,
          0.9907659562856456,
          0.9908805632111783,
          0.9909951701367111,
          0.9911043195895994,
          0.9912134690424877,
          0.9913226184953761,
          0.9914317679482644,
          0.9915409174011527,
          0.9916446093813966,
          0.9917483013616406,
          0.9918519933418846,
          0.9919556853221285,
          0.9920593773023725,
          0.9921630692826164,
          0.9922667612628604,
          0.9923704532431044,
          0.9924741452233483,
          0.9925778372035923,
          0.9926815291838362,
          0.9927797636914357,
          0.9928779981990352,
          0.9929762327066347,
          0.9930744672142342,
          0.9931727017218337,
          0.9932709362294332,
          0.9933691707370327,
          0.9934674052446322,
          0.9935656397522317,
          0.9936584167871868,
          0.9937511938221419,
          0.9938439708570971,
          0.9939367478920522,
          0.9940295249270074,
          0.9941223019619625,
          0.9942150789969176,
          0.9943078560318728,
          0.9944006330668279,
          0.994493410101783,
          0.9945807296640937,
          0.9946680492264044,
          0.9947553687887151,
          0.9948426883510257,
          0.9949300079133364,
          0.9950118700030027,
          0.995093732092669,
          0.9951755941823354,
          0.9952574562720017,
          0.9953338608890235,
          0.9954102655060454,
          0.9954866701230672,
          0.9955630747400891,
          0.995639479357111,
          0.9957158839741328,
          0.9957922885911547,
          0.9958686932081765,
          0.9959450978251984,
          0.9960215024422202,
          0.9960924495865976,
          0.996163396730975,
          0.9962343438753524,
          0.9963052910197298,
          0.9963707806914628,
          0.9964362703631958,
          0.9965017600349289,
          0.9965672497066619,
          0.9966327393783949,
          0.996698229050128,
          0.996763718721861,
          0.996829208393594,
          0.9968892405926826,
          0.9969492727917711,
          0.9970093049908597,
          0.9970693371899483,
          0.9971293693890368,
          0.9971894015881254,
          0.997249433787214,
          0.9973094659863025,
          0.9973694981853911,
          0.9974295303844797,
          0.9974841051109239,
          0.9975386798373681,
          0.9975932545638123,
          0.9976478292902565,
          0.9977024040167007,
          0.997756978743145,
          0.9978115534695892,
          0.9978661281960334,
          0.9979152454498331,
          0.9979589052309885,
          0.9980025650121439,
          0.9980462247932993,
          0.9980898845744547,
          0.9981335443556101,
          0.9981772041367655,
          0.9982208639179209,
          0.9982645236990763,
          0.9983027260075872,
          0.9983409283160981,
          0.998379130624609,
          0.99841733293312,
          0.9984555352416309,
          0.9984937375501418,
          0.9985319398586527,
          0.9985646846945192,
          0.9985974295303857,
          0.9986301743662521,
          0.9986629192021186,
          0.998695664037985,
          0.9987284088738515,
          0.998761153709718,
          0.9987938985455844,
          0.9988211859088065,
          0.9988484732720286,
          0.9988757606352507,
          0.9989030479984728,
          0.998930335361695,
          0.9989576227249171,
          0.9989849100881392,
          0.9990121974513613,
          0.9990394848145834,
          0.9990667721778055,
          0.9990940595410276,
          0.9991213469042497,
          0.9991486342674718,
          0.9991704641580494,
          0.9991922940486271,
          0.9992141239392047,
          0.9992359538297824,
          0.99925778372036,
          0.9992796136109376,
          0.9993014435015153,
          0.9993232733920929,
          0.9993451032826706,
          0.9993669331732482,
          0.9993887630638258,
          0.9994105929544035,
          0.9994324228449811,
          0.9994542527355588,
          0.9994760826261364,
          0.999497912516714,
          0.9995197424072917,
          0.9995415722978693,
          0.999563402188447,
          0.9995852320790246,
          0.9996016044969579,
          0.9996179769148912,
          0.9996343493328245,
          0.9996507217507578,
          0.999667094168691,
          0.9996834665866243,
          0.9996998390045576,
          0.9997162114224909,
          0.9997325838404242,
          0.9997489562583575,
          0.9997653286762908,
          0.999781701094224,
          0.9997980735121573,
          0.9998144459300906,
          0.9998253608753794,
          0.9998362758206683,
          0.9998471907659571,
          0.9998581057112459,
          0.9998690206565347,
          0.9998799356018235,
          0.9998908505471124,
          0.9999017654924012,
          0.99991268043769,
          0.9999235953829788,
          0.9999345103282676,
          0.9999454252735565,
          0.9999563402188453,
          0.9999617976914897,
          0.9999672551641342,
          0.9999727126367787,
          0.9999781701094231,
          0.9999836275820676,
          0.9999890850547121,
          0.9999945425273565,
          1.0000000000000009
         ],
         "yaxis": "y"
        },
        {
         "marker": {
          "color": "#636EFA"
         },
         "name": "Porcentaje A",
         "type": "bar",
         "x": [
          "1795849.0",
          "1255123.0",
          "1255548.0",
          "1740542.0",
          "1254798.0",
          "1825549.0",
          "1369085.0",
          "1255216.0",
          "43825307.0",
          "2015040.0",
          "1842327.0",
          "43824564.0",
          "2203715.0",
          "43825305.0",
          "2203449.0",
          "1345459.0",
          "1510339.0",
          "43823856.0",
          "1418561.0",
          "1254704.0",
          "1255193.0"
         ],
         "xaxis": "x",
         "y": [
          0.07967364313586378,
          0.06346494938194122,
          0.06312658607798728,
          0.0583785848773433,
          0.05230441782410566,
          0.04754004420552842,
          0.036515949463803314,
          0.036483204627936805,
          0.030239855922722186,
          0.026632466504761646,
          0.026108549130897482,
          0.025055256910524737,
          0.019204846235708242,
          0.013589106884601741,
          0.013037902147515485,
          0.012879635440827352,
          0.012814145769094332,
          0.012770485987938986,
          0.011755396076077168,
          0.011597129369389036,
          0.010489262422572107
         ],
         "yaxis": "y2"
        },
        {
         "marker": {
          "color": "#EF553B"
         },
         "name": "Porcentaje B",
         "type": "bar",
         "x": [
          "1255122.0",
          "43824317.0",
          "2203719.0",
          "1254686.0",
          "43825356.0",
          "43823585.0",
          "1254612.0",
          "43823870.0",
          "1255557.0",
          "43824548.0",
          "1825211.0",
          "1255192.0",
          "1254740.0",
          "1255194.0",
          "2254513.0",
          "1254802.0"
         ],
         "xaxis": "x",
         "y": [
          0.010254591098862117,
          0.009621524272109586,
          0.008415422817693126,
          0.008240783693071739,
          0.008077059513739188,
          0.007973367533495238,
          0.007678664010696647,
          0.007624089284252462,
          0.006603541899746227,
          0.005184599012197451,
          0.004939012743198625,
          0.004093104483313777,
          0.003378175566894971,
          0.0031653341337626547,
          0.003143504243184981,
          0.002925205337408246
         ],
         "yaxis": "y2"
        },
        {
         "marker": {
          "color": "#00CC96"
         },
         "name": "Porcentaje C",
         "type": "bar",
         "x": [
          "43824321.0",
          "1254707.0",
          "1254765.0",
          "1254690.0",
          "1255585.0",
          "1254688.0",
          "1254687.0",
          "1255235.0",
          "1254731.0",
          "1254733.0",
          "1254720.0",
          "1551997.0",
          "1255614.0",
          "1509644.0",
          "43824769.0",
          "1254711.0",
          "1254734.0",
          "1402387.0",
          "1254691.0",
          "1464940.0",
          "1254695.0",
          "1254716.0",
          "1254737.0",
          "1255615.0",
          "1265792.0",
          "1254692.0",
          "1417063.0"
         ],
         "xaxis": "x",
         "y": [
          0.0028815455562528993,
          0.002848800720386389,
          0.0026086719240319806,
          0.0021720741124785113,
          0.0021065844407454908,
          0.0019537752067017764,
          0.0019428602614129397,
          0.0019210303708352661,
          0.001784593554724807,
          0.001620869375392256,
          0.001402570469615521,
          0.0013752831063934292,
          0.001342538270526919,
          0.001342538270526919,
          0.0013316233252380822,
          0.0013152509073048272,
          0.0013097934346604089,
          0.0013043359620159903,
          0.0012606761808606434,
          0.0012606761808606434,
          0.0012279313449941331,
          0.001211558927060878,
          0.0011897290364832045,
          0.0011842715638387862,
          0.0011842715638387862,
          0.0011678991459055312,
          0.0011296968373946026
         ],
         "yaxis": "y2"
        },
        {
         "marker": {
          "color": "#AB63FA"
         },
         "name": "Porcentaje nan",
         "type": "bar",
         "x": [],
         "xaxis": "x",
         "y": [],
         "yaxis": "y2"
        }
       ],
       "layout": {
        "template": {
         "data": {
          "bar": [
           {
            "error_x": {
             "color": "#2a3f5f"
            },
            "error_y": {
             "color": "#2a3f5f"
            },
            "marker": {
             "line": {
              "color": "#E5ECF6",
              "width": 0.5
             },
             "pattern": {
              "fillmode": "overlay",
              "size": 10,
              "solidity": 0.2
             }
            },
            "type": "bar"
           }
          ],
          "barpolar": [
           {
            "marker": {
             "line": {
              "color": "#E5ECF6",
              "width": 0.5
             },
             "pattern": {
              "fillmode": "overlay",
              "size": 10,
              "solidity": 0.2
             }
            },
            "type": "barpolar"
           }
          ],
          "carpet": [
           {
            "aaxis": {
             "endlinecolor": "#2a3f5f",
             "gridcolor": "white",
             "linecolor": "white",
             "minorgridcolor": "white",
             "startlinecolor": "#2a3f5f"
            },
            "baxis": {
             "endlinecolor": "#2a3f5f",
             "gridcolor": "white",
             "linecolor": "white",
             "minorgridcolor": "white",
             "startlinecolor": "#2a3f5f"
            },
            "type": "carpet"
           }
          ],
          "choropleth": [
           {
            "colorbar": {
             "outlinewidth": 0,
             "ticks": ""
            },
            "type": "choropleth"
           }
          ],
          "contour": [
           {
            "colorbar": {
             "outlinewidth": 0,
             "ticks": ""
            },
            "colorscale": [
             [
              0,
              "#0d0887"
             ],
             [
              0.1111111111111111,
              "#46039f"
             ],
             [
              0.2222222222222222,
              "#7201a8"
             ],
             [
              0.3333333333333333,
              "#9c179e"
             ],
             [
              0.4444444444444444,
              "#bd3786"
             ],
             [
              0.5555555555555556,
              "#d8576b"
             ],
             [
              0.6666666666666666,
              "#ed7953"
             ],
             [
              0.7777777777777778,
              "#fb9f3a"
             ],
             [
              0.8888888888888888,
              "#fdca26"
             ],
             [
              1,
              "#f0f921"
             ]
            ],
            "type": "contour"
           }
          ],
          "contourcarpet": [
           {
            "colorbar": {
             "outlinewidth": 0,
             "ticks": ""
            },
            "type": "contourcarpet"
           }
          ],
          "heatmap": [
           {
            "colorbar": {
             "outlinewidth": 0,
             "ticks": ""
            },
            "colorscale": [
             [
              0,
              "#0d0887"
             ],
             [
              0.1111111111111111,
              "#46039f"
             ],
             [
              0.2222222222222222,
              "#7201a8"
             ],
             [
              0.3333333333333333,
              "#9c179e"
             ],
             [
              0.4444444444444444,
              "#bd3786"
             ],
             [
              0.5555555555555556,
              "#d8576b"
             ],
             [
              0.6666666666666666,
              "#ed7953"
             ],
             [
              0.7777777777777778,
              "#fb9f3a"
             ],
             [
              0.8888888888888888,
              "#fdca26"
             ],
             [
              1,
              "#f0f921"
             ]
            ],
            "type": "heatmap"
           }
          ],
          "heatmapgl": [
           {
            "colorbar": {
             "outlinewidth": 0,
             "ticks": ""
            },
            "colorscale": [
             [
              0,
              "#0d0887"
             ],
             [
              0.1111111111111111,
              "#46039f"
             ],
             [
              0.2222222222222222,
              "#7201a8"
             ],
             [
              0.3333333333333333,
              "#9c179e"
             ],
             [
              0.4444444444444444,
              "#bd3786"
             ],
             [
              0.5555555555555556,
              "#d8576b"
             ],
             [
              0.6666666666666666,
              "#ed7953"
             ],
             [
              0.7777777777777778,
              "#fb9f3a"
             ],
             [
              0.8888888888888888,
              "#fdca26"
             ],
             [
              1,
              "#f0f921"
             ]
            ],
            "type": "heatmapgl"
           }
          ],
          "histogram": [
           {
            "marker": {
             "pattern": {
              "fillmode": "overlay",
              "size": 10,
              "solidity": 0.2
             }
            },
            "type": "histogram"
           }
          ],
          "histogram2d": [
           {
            "colorbar": {
             "outlinewidth": 0,
             "ticks": ""
            },
            "colorscale": [
             [
              0,
              "#0d0887"
             ],
             [
              0.1111111111111111,
              "#46039f"
             ],
             [
              0.2222222222222222,
              "#7201a8"
             ],
             [
              0.3333333333333333,
              "#9c179e"
             ],
             [
              0.4444444444444444,
              "#bd3786"
             ],
             [
              0.5555555555555556,
              "#d8576b"
             ],
             [
              0.6666666666666666,
              "#ed7953"
             ],
             [
              0.7777777777777778,
              "#fb9f3a"
             ],
             [
              0.8888888888888888,
              "#fdca26"
             ],
             [
              1,
              "#f0f921"
             ]
            ],
            "type": "histogram2d"
           }
          ],
          "histogram2dcontour": [
           {
            "colorbar": {
             "outlinewidth": 0,
             "ticks": ""
            },
            "colorscale": [
             [
              0,
              "#0d0887"
             ],
             [
              0.1111111111111111,
              "#46039f"
             ],
             [
              0.2222222222222222,
              "#7201a8"
             ],
             [
              0.3333333333333333,
              "#9c179e"
             ],
             [
              0.4444444444444444,
              "#bd3786"
             ],
             [
              0.5555555555555556,
              "#d8576b"
             ],
             [
              0.6666666666666666,
              "#ed7953"
             ],
             [
              0.7777777777777778,
              "#fb9f3a"
             ],
             [
              0.8888888888888888,
              "#fdca26"
             ],
             [
              1,
              "#f0f921"
             ]
            ],
            "type": "histogram2dcontour"
           }
          ],
          "mesh3d": [
           {
            "colorbar": {
             "outlinewidth": 0,
             "ticks": ""
            },
            "type": "mesh3d"
           }
          ],
          "parcoords": [
           {
            "line": {
             "colorbar": {
              "outlinewidth": 0,
              "ticks": ""
             }
            },
            "type": "parcoords"
           }
          ],
          "pie": [
           {
            "automargin": true,
            "type": "pie"
           }
          ],
          "scatter": [
           {
            "fillpattern": {
             "fillmode": "overlay",
             "size": 10,
             "solidity": 0.2
            },
            "type": "scatter"
           }
          ],
          "scatter3d": [
           {
            "line": {
             "colorbar": {
              "outlinewidth": 0,
              "ticks": ""
             }
            },
            "marker": {
             "colorbar": {
              "outlinewidth": 0,
              "ticks": ""
             }
            },
            "type": "scatter3d"
           }
          ],
          "scattercarpet": [
           {
            "marker": {
             "colorbar": {
              "outlinewidth": 0,
              "ticks": ""
             }
            },
            "type": "scattercarpet"
           }
          ],
          "scattergeo": [
           {
            "marker": {
             "colorbar": {
              "outlinewidth": 0,
              "ticks": ""
             }
            },
            "type": "scattergeo"
           }
          ],
          "scattergl": [
           {
            "marker": {
             "colorbar": {
              "outlinewidth": 0,
              "ticks": ""
             }
            },
            "type": "scattergl"
           }
          ],
          "scattermapbox": [
           {
            "marker": {
             "colorbar": {
              "outlinewidth": 0,
              "ticks": ""
             }
            },
            "type": "scattermapbox"
           }
          ],
          "scatterpolar": [
           {
            "marker": {
             "colorbar": {
              "outlinewidth": 0,
              "ticks": ""
             }
            },
            "type": "scatterpolar"
           }
          ],
          "scatterpolargl": [
           {
            "marker": {
             "colorbar": {
              "outlinewidth": 0,
              "ticks": ""
             }
            },
            "type": "scatterpolargl"
           }
          ],
          "scatterternary": [
           {
            "marker": {
             "colorbar": {
              "outlinewidth": 0,
              "ticks": ""
             }
            },
            "type": "scatterternary"
           }
          ],
          "surface": [
           {
            "colorbar": {
             "outlinewidth": 0,
             "ticks": ""
            },
            "colorscale": [
             [
              0,
              "#0d0887"
             ],
             [
              0.1111111111111111,
              "#46039f"
             ],
             [
              0.2222222222222222,
              "#7201a8"
             ],
             [
              0.3333333333333333,
              "#9c179e"
             ],
             [
              0.4444444444444444,
              "#bd3786"
             ],
             [
              0.5555555555555556,
              "#d8576b"
             ],
             [
              0.6666666666666666,
              "#ed7953"
             ],
             [
              0.7777777777777778,
              "#fb9f3a"
             ],
             [
              0.8888888888888888,
              "#fdca26"
             ],
             [
              1,
              "#f0f921"
             ]
            ],
            "type": "surface"
           }
          ],
          "table": [
           {
            "cells": {
             "fill": {
              "color": "#EBF0F8"
             },
             "line": {
              "color": "white"
             }
            },
            "header": {
             "fill": {
              "color": "#C8D4E3"
             },
             "line": {
              "color": "white"
             }
            },
            "type": "table"
           }
          ]
         },
         "layout": {
          "annotationdefaults": {
           "arrowcolor": "#2a3f5f",
           "arrowhead": 0,
           "arrowwidth": 1
          },
          "autotypenumbers": "strict",
          "coloraxis": {
           "colorbar": {
            "outlinewidth": 0,
            "ticks": ""
           }
          },
          "colorscale": {
           "diverging": [
            [
             0,
             "#8e0152"
            ],
            [
             0.1,
             "#c51b7d"
            ],
            [
             0.2,
             "#de77ae"
            ],
            [
             0.3,
             "#f1b6da"
            ],
            [
             0.4,
             "#fde0ef"
            ],
            [
             0.5,
             "#f7f7f7"
            ],
            [
             0.6,
             "#e6f5d0"
            ],
            [
             0.7,
             "#b8e186"
            ],
            [
             0.8,
             "#7fbc41"
            ],
            [
             0.9,
             "#4d9221"
            ],
            [
             1,
             "#276419"
            ]
           ],
           "sequential": [
            [
             0,
             "#0d0887"
            ],
            [
             0.1111111111111111,
             "#46039f"
            ],
            [
             0.2222222222222222,
             "#7201a8"
            ],
            [
             0.3333333333333333,
             "#9c179e"
            ],
            [
             0.4444444444444444,
             "#bd3786"
            ],
            [
             0.5555555555555556,
             "#d8576b"
            ],
            [
             0.6666666666666666,
             "#ed7953"
            ],
            [
             0.7777777777777778,
             "#fb9f3a"
            ],
            [
             0.8888888888888888,
             "#fdca26"
            ],
            [
             1,
             "#f0f921"
            ]
           ],
           "sequentialminus": [
            [
             0,
             "#0d0887"
            ],
            [
             0.1111111111111111,
             "#46039f"
            ],
            [
             0.2222222222222222,
             "#7201a8"
            ],
            [
             0.3333333333333333,
             "#9c179e"
            ],
            [
             0.4444444444444444,
             "#bd3786"
            ],
            [
             0.5555555555555556,
             "#d8576b"
            ],
            [
             0.6666666666666666,
             "#ed7953"
            ],
            [
             0.7777777777777778,
             "#fb9f3a"
            ],
            [
             0.8888888888888888,
             "#fdca26"
            ],
            [
             1,
             "#f0f921"
            ]
           ]
          },
          "colorway": [
           "#636efa",
           "#EF553B",
           "#00cc96",
           "#ab63fa",
           "#FFA15A",
           "#19d3f3",
           "#FF6692",
           "#B6E880",
           "#FF97FF",
           "#FECB52"
          ],
          "font": {
           "color": "#2a3f5f"
          },
          "geo": {
           "bgcolor": "white",
           "lakecolor": "white",
           "landcolor": "#E5ECF6",
           "showlakes": true,
           "showland": true,
           "subunitcolor": "white"
          },
          "hoverlabel": {
           "align": "left"
          },
          "hovermode": "closest",
          "mapbox": {
           "style": "light"
          },
          "paper_bgcolor": "white",
          "plot_bgcolor": "#E5ECF6",
          "polar": {
           "angularaxis": {
            "gridcolor": "white",
            "linecolor": "white",
            "ticks": ""
           },
           "bgcolor": "#E5ECF6",
           "radialaxis": {
            "gridcolor": "white",
            "linecolor": "white",
            "ticks": ""
           }
          },
          "scene": {
           "xaxis": {
            "backgroundcolor": "#E5ECF6",
            "gridcolor": "white",
            "gridwidth": 2,
            "linecolor": "white",
            "showbackground": true,
            "ticks": "",
            "zerolinecolor": "white"
           },
           "yaxis": {
            "backgroundcolor": "#E5ECF6",
            "gridcolor": "white",
            "gridwidth": 2,
            "linecolor": "white",
            "showbackground": true,
            "ticks": "",
            "zerolinecolor": "white"
           },
           "zaxis": {
            "backgroundcolor": "#E5ECF6",
            "gridcolor": "white",
            "gridwidth": 2,
            "linecolor": "white",
            "showbackground": true,
            "ticks": "",
            "zerolinecolor": "white"
           }
          },
          "shapedefaults": {
           "line": {
            "color": "#2a3f5f"
           }
          },
          "ternary": {
           "aaxis": {
            "gridcolor": "white",
            "linecolor": "white",
            "ticks": ""
           },
           "baxis": {
            "gridcolor": "white",
            "linecolor": "white",
            "ticks": ""
           },
           "bgcolor": "#E5ECF6",
           "caxis": {
            "gridcolor": "white",
            "linecolor": "white",
            "ticks": ""
           }
          },
          "title": {
           "x": 0.05
          },
          "xaxis": {
           "automargin": true,
           "gridcolor": "white",
           "linecolor": "white",
           "ticks": "",
           "title": {
            "standoff": 15
           },
           "zerolinecolor": "white",
           "zerolinewidth": 2
          },
          "yaxis": {
           "automargin": true,
           "gridcolor": "white",
           "linecolor": "white",
           "ticks": "",
           "title": {
            "standoff": 15
           },
           "zerolinecolor": "white",
           "zerolinewidth": 2
          }
         }
        },
        "title": {
         "text": "Clasificación ABC por Cliente",
         "x": 0.5
        },
        "xaxis": {
         "anchor": "y",
         "domain": [
          0,
          0.94
         ]
        },
        "yaxis": {
         "anchor": "x",
         "domain": [
          0,
          1
         ]
        },
        "yaxis2": {
         "anchor": "x",
         "overlaying": "y",
         "range": [
          0,
          1
         ],
         "side": "right",
         "title": {
          "text": "Porcentaje"
         }
        }
       }
      }
     },
     "metadata": {},
     "output_type": "display_data"
    }
   ],
   "source": [
    "fig = make_subplots(specs=[[{\"secondary_y\": True}]])\n",
    "\n",
    "# Agregar gráfico de líneas\n",
    "fig.add_trace(\n",
    "    go.Scatter(x=df_customer['CUSTOMER_NO'], y=df_customer['cumulative_percentage'], mode='lines', name='Porcentaje acumulado'),\n",
    "    secondary_y=False\n",
    ")\n",
    "\n",
    "# Agregar gráfico de barras con colores distintos por categoría\n",
    "colors = px.colors.qualitative.Plotly\n",
    "\n",
    "categories = df_customer['category'].unique()\n",
    "for i, category in enumerate(categories):\n",
    "    df_category = df_customer[df_customer['category'] == category]\n",
    "    fig.add_trace(\n",
    "        go.Bar(\n",
    "            x=df_category['CUSTOMER_NO'],\n",
    "            y=df_category['percentage'],\n",
    "            name=f'Porcentaje {category}',\n",
    "            marker_color=colors[i % len(colors)] \n",
    "        ),\n",
    "        secondary_y=True\n",
    "    )\n",
    "\n",
    "# Configurar el rango del eje Porcentaje\n",
    "fig.update_yaxes(\n",
    "    range=[0, 1], \n",
    "    title_text='Porcentaje',\n",
    "    secondary_y=True\n",
    ")\n",
    "\n",
    "fig.update_layout(\n",
    "    title_text='Clasificación ABC por Cliente',  \n",
    "    title_x=0.5 \n",
    ")\n",
    "\n",
    "fig.show()"
   ]
  },
  {
   "cell_type": "code",
   "execution_count": 53,
   "metadata": {},
   "outputs": [],
   "source": [
    "df_A_customers = df_customer[df_customer['category']== 'A']['CUSTOMER_NO']"
   ]
  },
  {
   "cell_type": "markdown",
   "metadata": {},
   "source": [
    "De todos los clientes solo 21 acumulan el 80% de las unidades vendidas, estos clientes están categorizados como clientes A."
   ]
  },
  {
   "cell_type": "markdown",
   "metadata": {},
   "source": [
    "### Nivel de servicio al cliente\n",
    "Se analizará el número de ordenes canceladas por linea de despacho, y luego la proporción de ordenes canceladas."
   ]
  },
  {
   "cell_type": "code",
   "execution_count": 15,
   "metadata": {},
   "outputs": [
    {
     "data": {
      "text/html": [
       "<div>\n",
       "<style scoped>\n",
       "    .dataframe tbody tr th:only-of-type {\n",
       "        vertical-align: middle;\n",
       "    }\n",
       "\n",
       "    .dataframe tbody tr th {\n",
       "        vertical-align: top;\n",
       "    }\n",
       "\n",
       "    .dataframe thead th {\n",
       "        text-align: right;\n",
       "    }\n",
       "</style>\n",
       "<table border=\"1\" class=\"dataframe\">\n",
       "  <thead>\n",
       "    <tr style=\"text-align: right;\">\n",
       "      <th></th>\n",
       "      <th>ORDER_NO</th>\n",
       "      <th>DATE</th>\n",
       "      <th>LINE</th>\n",
       "      <th>CUSTOMER_NO</th>\n",
       "      <th>ITEM</th>\n",
       "      <th>NC_ORDER</th>\n",
       "      <th>NC_SHIP</th>\n",
       "    </tr>\n",
       "  </thead>\n",
       "  <tbody>\n",
       "    <tr>\n",
       "      <th>0</th>\n",
       "      <td>528703</td>\n",
       "      <td>Tuesday, January 3, 2017</td>\n",
       "      <td>1</td>\n",
       "      <td>1857566.0</td>\n",
       "      <td>10135139</td>\n",
       "      <td>1</td>\n",
       "      <td>1</td>\n",
       "    </tr>\n",
       "    <tr>\n",
       "      <th>1</th>\n",
       "      <td>528705</td>\n",
       "      <td>Tuesday, January 3, 2017</td>\n",
       "      <td>1</td>\n",
       "      <td>1857566.0</td>\n",
       "      <td>10135140</td>\n",
       "      <td>1</td>\n",
       "      <td>1</td>\n",
       "    </tr>\n",
       "    <tr>\n",
       "      <th>2</th>\n",
       "      <td>528706</td>\n",
       "      <td>Tuesday, January 3, 2017</td>\n",
       "      <td>2</td>\n",
       "      <td>1857566.0</td>\n",
       "      <td>10135138</td>\n",
       "      <td>1</td>\n",
       "      <td>1</td>\n",
       "    </tr>\n",
       "    <tr>\n",
       "      <th>3</th>\n",
       "      <td>528707</td>\n",
       "      <td>Tuesday, January 3, 2017</td>\n",
       "      <td>1</td>\n",
       "      <td>1857566.0</td>\n",
       "      <td>10135132</td>\n",
       "      <td>1</td>\n",
       "      <td>1</td>\n",
       "    </tr>\n",
       "    <tr>\n",
       "      <th>4</th>\n",
       "      <td>528708</td>\n",
       "      <td>Tuesday, January 3, 2017</td>\n",
       "      <td>1</td>\n",
       "      <td>1857566.0</td>\n",
       "      <td>10135359</td>\n",
       "      <td>1</td>\n",
       "      <td>1</td>\n",
       "    </tr>\n",
       "  </tbody>\n",
       "</table>\n",
       "</div>"
      ],
      "text/plain": [
       "   ORDER_NO                      DATE  LINE  CUSTOMER_NO      ITEM  NC_ORDER  \\\n",
       "0    528703  Tuesday, January 3, 2017     1    1857566.0  10135139         1   \n",
       "1    528705  Tuesday, January 3, 2017     1    1857566.0  10135140         1   \n",
       "2    528706  Tuesday, January 3, 2017     2    1857566.0  10135138         1   \n",
       "3    528707  Tuesday, January 3, 2017     1    1857566.0  10135132         1   \n",
       "4    528708  Tuesday, January 3, 2017     1    1857566.0  10135359         1   \n",
       "\n",
       "   NC_SHIP  \n",
       "0        1  \n",
       "1        1  \n",
       "2        1  \n",
       "3        1  \n",
       "4        1  "
      ]
     },
     "execution_count": 15,
     "metadata": {},
     "output_type": "execute_result"
    }
   ],
   "source": [
    "df_canceled = pd.read_csv('canceled.csv')\n",
    "df_canceled.head()"
   ]
  },
  {
   "cell_type": "code",
   "execution_count": 21,
   "metadata": {},
   "outputs": [],
   "source": [
    "df_canceled_line = df_canceled[['LINE','NC_ORDER']].groupby(['LINE']).count().sort_values(by = 'NC_ORDER', ascending= False).reset_index()"
   ]
  },
  {
   "cell_type": "markdown",
   "metadata": {},
   "source": [
    "#### Cantidad de ordenes canceladas por línea"
   ]
  },
  {
   "cell_type": "code",
   "execution_count": 85,
   "metadata": {},
   "outputs": [
    {
     "data": {
      "application/vnd.plotly.v1+json": {
       "config": {
        "plotlyServerURL": "https://plot.ly"
       },
       "data": [
        {
         "alignmentgroup": "True",
         "hovertemplate": "LINE=%{x}<br>NC_ORDER=%{y}<extra></extra>",
         "legendgroup": "",
         "marker": {
          "color": "#636efa",
          "pattern": {
           "shape": ""
          }
         },
         "name": "",
         "offsetgroup": "",
         "orientation": "v",
         "showlegend": false,
         "textposition": "auto",
         "type": "bar",
         "x": [
          1,
          2,
          3,
          4,
          5,
          6,
          7,
          8,
          9,
          10,
          11,
          12,
          13,
          14,
          15,
          16,
          17,
          18,
          19,
          20,
          21,
          22,
          23,
          24,
          25,
          26,
          27
         ],
         "xaxis": "x",
         "y": [
          1069,
          439,
          405,
          354,
          292,
          206,
          171,
          152,
          122,
          97,
          83,
          65,
          59,
          41,
          35,
          17,
          13,
          7,
          6,
          6,
          4,
          4,
          4,
          4,
          3,
          2,
          2
         ],
         "yaxis": "y"
        }
       ],
       "layout": {
        "barmode": "relative",
        "legend": {
         "tracegroupgap": 0
        },
        "margin": {
         "t": 60
        },
        "template": {
         "data": {
          "bar": [
           {
            "error_x": {
             "color": "#2a3f5f"
            },
            "error_y": {
             "color": "#2a3f5f"
            },
            "marker": {
             "line": {
              "color": "#E5ECF6",
              "width": 0.5
             },
             "pattern": {
              "fillmode": "overlay",
              "size": 10,
              "solidity": 0.2
             }
            },
            "type": "bar"
           }
          ],
          "barpolar": [
           {
            "marker": {
             "line": {
              "color": "#E5ECF6",
              "width": 0.5
             },
             "pattern": {
              "fillmode": "overlay",
              "size": 10,
              "solidity": 0.2
             }
            },
            "type": "barpolar"
           }
          ],
          "carpet": [
           {
            "aaxis": {
             "endlinecolor": "#2a3f5f",
             "gridcolor": "white",
             "linecolor": "white",
             "minorgridcolor": "white",
             "startlinecolor": "#2a3f5f"
            },
            "baxis": {
             "endlinecolor": "#2a3f5f",
             "gridcolor": "white",
             "linecolor": "white",
             "minorgridcolor": "white",
             "startlinecolor": "#2a3f5f"
            },
            "type": "carpet"
           }
          ],
          "choropleth": [
           {
            "colorbar": {
             "outlinewidth": 0,
             "ticks": ""
            },
            "type": "choropleth"
           }
          ],
          "contour": [
           {
            "colorbar": {
             "outlinewidth": 0,
             "ticks": ""
            },
            "colorscale": [
             [
              0,
              "#0d0887"
             ],
             [
              0.1111111111111111,
              "#46039f"
             ],
             [
              0.2222222222222222,
              "#7201a8"
             ],
             [
              0.3333333333333333,
              "#9c179e"
             ],
             [
              0.4444444444444444,
              "#bd3786"
             ],
             [
              0.5555555555555556,
              "#d8576b"
             ],
             [
              0.6666666666666666,
              "#ed7953"
             ],
             [
              0.7777777777777778,
              "#fb9f3a"
             ],
             [
              0.8888888888888888,
              "#fdca26"
             ],
             [
              1,
              "#f0f921"
             ]
            ],
            "type": "contour"
           }
          ],
          "contourcarpet": [
           {
            "colorbar": {
             "outlinewidth": 0,
             "ticks": ""
            },
            "type": "contourcarpet"
           }
          ],
          "heatmap": [
           {
            "colorbar": {
             "outlinewidth": 0,
             "ticks": ""
            },
            "colorscale": [
             [
              0,
              "#0d0887"
             ],
             [
              0.1111111111111111,
              "#46039f"
             ],
             [
              0.2222222222222222,
              "#7201a8"
             ],
             [
              0.3333333333333333,
              "#9c179e"
             ],
             [
              0.4444444444444444,
              "#bd3786"
             ],
             [
              0.5555555555555556,
              "#d8576b"
             ],
             [
              0.6666666666666666,
              "#ed7953"
             ],
             [
              0.7777777777777778,
              "#fb9f3a"
             ],
             [
              0.8888888888888888,
              "#fdca26"
             ],
             [
              1,
              "#f0f921"
             ]
            ],
            "type": "heatmap"
           }
          ],
          "heatmapgl": [
           {
            "colorbar": {
             "outlinewidth": 0,
             "ticks": ""
            },
            "colorscale": [
             [
              0,
              "#0d0887"
             ],
             [
              0.1111111111111111,
              "#46039f"
             ],
             [
              0.2222222222222222,
              "#7201a8"
             ],
             [
              0.3333333333333333,
              "#9c179e"
             ],
             [
              0.4444444444444444,
              "#bd3786"
             ],
             [
              0.5555555555555556,
              "#d8576b"
             ],
             [
              0.6666666666666666,
              "#ed7953"
             ],
             [
              0.7777777777777778,
              "#fb9f3a"
             ],
             [
              0.8888888888888888,
              "#fdca26"
             ],
             [
              1,
              "#f0f921"
             ]
            ],
            "type": "heatmapgl"
           }
          ],
          "histogram": [
           {
            "marker": {
             "pattern": {
              "fillmode": "overlay",
              "size": 10,
              "solidity": 0.2
             }
            },
            "type": "histogram"
           }
          ],
          "histogram2d": [
           {
            "colorbar": {
             "outlinewidth": 0,
             "ticks": ""
            },
            "colorscale": [
             [
              0,
              "#0d0887"
             ],
             [
              0.1111111111111111,
              "#46039f"
             ],
             [
              0.2222222222222222,
              "#7201a8"
             ],
             [
              0.3333333333333333,
              "#9c179e"
             ],
             [
              0.4444444444444444,
              "#bd3786"
             ],
             [
              0.5555555555555556,
              "#d8576b"
             ],
             [
              0.6666666666666666,
              "#ed7953"
             ],
             [
              0.7777777777777778,
              "#fb9f3a"
             ],
             [
              0.8888888888888888,
              "#fdca26"
             ],
             [
              1,
              "#f0f921"
             ]
            ],
            "type": "histogram2d"
           }
          ],
          "histogram2dcontour": [
           {
            "colorbar": {
             "outlinewidth": 0,
             "ticks": ""
            },
            "colorscale": [
             [
              0,
              "#0d0887"
             ],
             [
              0.1111111111111111,
              "#46039f"
             ],
             [
              0.2222222222222222,
              "#7201a8"
             ],
             [
              0.3333333333333333,
              "#9c179e"
             ],
             [
              0.4444444444444444,
              "#bd3786"
             ],
             [
              0.5555555555555556,
              "#d8576b"
             ],
             [
              0.6666666666666666,
              "#ed7953"
             ],
             [
              0.7777777777777778,
              "#fb9f3a"
             ],
             [
              0.8888888888888888,
              "#fdca26"
             ],
             [
              1,
              "#f0f921"
             ]
            ],
            "type": "histogram2dcontour"
           }
          ],
          "mesh3d": [
           {
            "colorbar": {
             "outlinewidth": 0,
             "ticks": ""
            },
            "type": "mesh3d"
           }
          ],
          "parcoords": [
           {
            "line": {
             "colorbar": {
              "outlinewidth": 0,
              "ticks": ""
             }
            },
            "type": "parcoords"
           }
          ],
          "pie": [
           {
            "automargin": true,
            "type": "pie"
           }
          ],
          "scatter": [
           {
            "fillpattern": {
             "fillmode": "overlay",
             "size": 10,
             "solidity": 0.2
            },
            "type": "scatter"
           }
          ],
          "scatter3d": [
           {
            "line": {
             "colorbar": {
              "outlinewidth": 0,
              "ticks": ""
             }
            },
            "marker": {
             "colorbar": {
              "outlinewidth": 0,
              "ticks": ""
             }
            },
            "type": "scatter3d"
           }
          ],
          "scattercarpet": [
           {
            "marker": {
             "colorbar": {
              "outlinewidth": 0,
              "ticks": ""
             }
            },
            "type": "scattercarpet"
           }
          ],
          "scattergeo": [
           {
            "marker": {
             "colorbar": {
              "outlinewidth": 0,
              "ticks": ""
             }
            },
            "type": "scattergeo"
           }
          ],
          "scattergl": [
           {
            "marker": {
             "colorbar": {
              "outlinewidth": 0,
              "ticks": ""
             }
            },
            "type": "scattergl"
           }
          ],
          "scattermapbox": [
           {
            "marker": {
             "colorbar": {
              "outlinewidth": 0,
              "ticks": ""
             }
            },
            "type": "scattermapbox"
           }
          ],
          "scatterpolar": [
           {
            "marker": {
             "colorbar": {
              "outlinewidth": 0,
              "ticks": ""
             }
            },
            "type": "scatterpolar"
           }
          ],
          "scatterpolargl": [
           {
            "marker": {
             "colorbar": {
              "outlinewidth": 0,
              "ticks": ""
             }
            },
            "type": "scatterpolargl"
           }
          ],
          "scatterternary": [
           {
            "marker": {
             "colorbar": {
              "outlinewidth": 0,
              "ticks": ""
             }
            },
            "type": "scatterternary"
           }
          ],
          "surface": [
           {
            "colorbar": {
             "outlinewidth": 0,
             "ticks": ""
            },
            "colorscale": [
             [
              0,
              "#0d0887"
             ],
             [
              0.1111111111111111,
              "#46039f"
             ],
             [
              0.2222222222222222,
              "#7201a8"
             ],
             [
              0.3333333333333333,
              "#9c179e"
             ],
             [
              0.4444444444444444,
              "#bd3786"
             ],
             [
              0.5555555555555556,
              "#d8576b"
             ],
             [
              0.6666666666666666,
              "#ed7953"
             ],
             [
              0.7777777777777778,
              "#fb9f3a"
             ],
             [
              0.8888888888888888,
              "#fdca26"
             ],
             [
              1,
              "#f0f921"
             ]
            ],
            "type": "surface"
           }
          ],
          "table": [
           {
            "cells": {
             "fill": {
              "color": "#EBF0F8"
             },
             "line": {
              "color": "white"
             }
            },
            "header": {
             "fill": {
              "color": "#C8D4E3"
             },
             "line": {
              "color": "white"
             }
            },
            "type": "table"
           }
          ]
         },
         "layout": {
          "annotationdefaults": {
           "arrowcolor": "#2a3f5f",
           "arrowhead": 0,
           "arrowwidth": 1
          },
          "autotypenumbers": "strict",
          "coloraxis": {
           "colorbar": {
            "outlinewidth": 0,
            "ticks": ""
           }
          },
          "colorscale": {
           "diverging": [
            [
             0,
             "#8e0152"
            ],
            [
             0.1,
             "#c51b7d"
            ],
            [
             0.2,
             "#de77ae"
            ],
            [
             0.3,
             "#f1b6da"
            ],
            [
             0.4,
             "#fde0ef"
            ],
            [
             0.5,
             "#f7f7f7"
            ],
            [
             0.6,
             "#e6f5d0"
            ],
            [
             0.7,
             "#b8e186"
            ],
            [
             0.8,
             "#7fbc41"
            ],
            [
             0.9,
             "#4d9221"
            ],
            [
             1,
             "#276419"
            ]
           ],
           "sequential": [
            [
             0,
             "#0d0887"
            ],
            [
             0.1111111111111111,
             "#46039f"
            ],
            [
             0.2222222222222222,
             "#7201a8"
            ],
            [
             0.3333333333333333,
             "#9c179e"
            ],
            [
             0.4444444444444444,
             "#bd3786"
            ],
            [
             0.5555555555555556,
             "#d8576b"
            ],
            [
             0.6666666666666666,
             "#ed7953"
            ],
            [
             0.7777777777777778,
             "#fb9f3a"
            ],
            [
             0.8888888888888888,
             "#fdca26"
            ],
            [
             1,
             "#f0f921"
            ]
           ],
           "sequentialminus": [
            [
             0,
             "#0d0887"
            ],
            [
             0.1111111111111111,
             "#46039f"
            ],
            [
             0.2222222222222222,
             "#7201a8"
            ],
            [
             0.3333333333333333,
             "#9c179e"
            ],
            [
             0.4444444444444444,
             "#bd3786"
            ],
            [
             0.5555555555555556,
             "#d8576b"
            ],
            [
             0.6666666666666666,
             "#ed7953"
            ],
            [
             0.7777777777777778,
             "#fb9f3a"
            ],
            [
             0.8888888888888888,
             "#fdca26"
            ],
            [
             1,
             "#f0f921"
            ]
           ]
          },
          "colorway": [
           "#636efa",
           "#EF553B",
           "#00cc96",
           "#ab63fa",
           "#FFA15A",
           "#19d3f3",
           "#FF6692",
           "#B6E880",
           "#FF97FF",
           "#FECB52"
          ],
          "font": {
           "color": "#2a3f5f"
          },
          "geo": {
           "bgcolor": "white",
           "lakecolor": "white",
           "landcolor": "#E5ECF6",
           "showlakes": true,
           "showland": true,
           "subunitcolor": "white"
          },
          "hoverlabel": {
           "align": "left"
          },
          "hovermode": "closest",
          "mapbox": {
           "style": "light"
          },
          "paper_bgcolor": "white",
          "plot_bgcolor": "#E5ECF6",
          "polar": {
           "angularaxis": {
            "gridcolor": "white",
            "linecolor": "white",
            "ticks": ""
           },
           "bgcolor": "#E5ECF6",
           "radialaxis": {
            "gridcolor": "white",
            "linecolor": "white",
            "ticks": ""
           }
          },
          "scene": {
           "xaxis": {
            "backgroundcolor": "#E5ECF6",
            "gridcolor": "white",
            "gridwidth": 2,
            "linecolor": "white",
            "showbackground": true,
            "ticks": "",
            "zerolinecolor": "white"
           },
           "yaxis": {
            "backgroundcolor": "#E5ECF6",
            "gridcolor": "white",
            "gridwidth": 2,
            "linecolor": "white",
            "showbackground": true,
            "ticks": "",
            "zerolinecolor": "white"
           },
           "zaxis": {
            "backgroundcolor": "#E5ECF6",
            "gridcolor": "white",
            "gridwidth": 2,
            "linecolor": "white",
            "showbackground": true,
            "ticks": "",
            "zerolinecolor": "white"
           }
          },
          "shapedefaults": {
           "line": {
            "color": "#2a3f5f"
           }
          },
          "ternary": {
           "aaxis": {
            "gridcolor": "white",
            "linecolor": "white",
            "ticks": ""
           },
           "baxis": {
            "gridcolor": "white",
            "linecolor": "white",
            "ticks": ""
           },
           "bgcolor": "#E5ECF6",
           "caxis": {
            "gridcolor": "white",
            "linecolor": "white",
            "ticks": ""
           }
          },
          "title": {
           "x": 0.05
          },
          "xaxis": {
           "automargin": true,
           "gridcolor": "white",
           "linecolor": "white",
           "ticks": "",
           "title": {
            "standoff": 15
           },
           "zerolinecolor": "white",
           "zerolinewidth": 2
          },
          "yaxis": {
           "automargin": true,
           "gridcolor": "white",
           "linecolor": "white",
           "ticks": "",
           "title": {
            "standoff": 15
           },
           "zerolinecolor": "white",
           "zerolinewidth": 2
          }
         }
        },
        "title": {
         "text": "Ordenes canceladas por linea",
         "x": 0.5
        },
        "xaxis": {
         "anchor": "y",
         "domain": [
          0,
          1
         ],
         "tickangle": -90,
         "tickmode": "linear",
         "title": {
          "text": "LINE"
         }
        },
        "yaxis": {
         "anchor": "x",
         "domain": [
          0,
          1
         ],
         "title": {
          "text": "NC_ORDER"
         }
        }
       }
      }
     },
     "metadata": {},
     "output_type": "display_data"
    }
   ],
   "source": [
    "# Crear gráfico de barras\n",
    "fig = px.bar(df_canceled_line, x='LINE', y='NC_ORDER', )\n",
    "fig.update_layout(\n",
    "    title_text='Ordenes canceladas por linea',\n",
    "    title_x = 0.5\n",
    ")\n",
    "fig.update_xaxes(tickmode='linear')\n",
    "fig.update_xaxes(tickangle=-90)\n",
    "fig.show()"
   ]
  },
  {
   "cell_type": "markdown",
   "metadata": {},
   "source": [
    "#### Proporción de ordenes canceladas por línea"
   ]
  },
  {
   "cell_type": "code",
   "execution_count": 37,
   "metadata": {},
   "outputs": [],
   "source": [
    "df_acepted_line = df[['LINE','NS_ORDER']].groupby(['LINE']).count().sort_values(by = 'NS_ORDER', ascending= False).reset_index()\n",
    "df_percentage_acepted = df_acepted_line\n",
    "df_percentage_acepted['percentage_acepted'] = df_acepted_line['NS_ORDER']/ (df_acepted_line['NS_ORDER'] + df_canceled_line['NC_ORDER'])\n",
    "df_percentage_acepted['percentage_acepted'] = df_percentage_acepted['percentage_acepted'].fillna(1)\n",
    "df_percentage_acepted.sort_values(by = 'percentage_acepted', ascending= False, inplace= True)"
   ]
  },
  {
   "cell_type": "code",
   "execution_count": 54,
   "metadata": {},
   "outputs": [
    {
     "data": {
      "application/vnd.plotly.v1+json": {
       "config": {
        "plotlyServerURL": "https://plot.ly"
       },
       "data": [
        {
         "alignmentgroup": "True",
         "hovertemplate": "LINE=%{x}<br>percentage_acepted=%{y}<extra></extra>",
         "legendgroup": "",
         "marker": {
          "color": "#636efa",
          "pattern": {
           "shape": ""
          }
         },
         "name": "",
         "offsetgroup": "",
         "orientation": "v",
         "showlegend": false,
         "textposition": "auto",
         "type": "bar",
         "x": [
          47,
          39,
          31,
          24,
          29,
          26,
          28,
          38,
          41,
          40,
          37,
          36,
          27,
          33,
          42,
          43,
          44,
          45,
          46,
          32,
          2,
          3,
          1,
          4,
          6,
          5,
          7,
          12,
          10,
          11,
          9,
          8,
          13,
          18,
          14,
          16,
          17,
          15,
          19,
          20,
          34,
          35,
          21,
          23,
          30,
          22,
          25
         ],
         "xaxis": "x",
         "y": [
          1,
          1,
          1,
          1,
          1,
          1,
          1,
          1,
          1,
          1,
          1,
          1,
          1,
          1,
          1,
          1,
          1,
          1,
          1,
          1,
          0.9315132605304213,
          0.9028776978417267,
          0.8925844051446945,
          0.8784340659340659,
          0.8609986504723347,
          0.8572825024437928,
          0.8458070333633905,
          0.8346055979643766,
          0.8258527827648114,
          0.8237791932059448,
          0.8229317851959361,
          0.8209658421672555,
          0.8150470219435737,
          0.8,
          0.7929292929292929,
          0.7763157894736842,
          0.7547169811320755,
          0.7348484848484849,
          0.7142857142857143,
          0.6,
          0.6,
          0.6,
          0.5384615384615384,
          0.5,
          0.5,
          0.5,
          0.5
         ],
         "yaxis": "y"
        }
       ],
       "layout": {
        "barmode": "relative",
        "legend": {
         "tracegroupgap": 0
        },
        "margin": {
         "t": 60
        },
        "template": {
         "data": {
          "bar": [
           {
            "error_x": {
             "color": "#2a3f5f"
            },
            "error_y": {
             "color": "#2a3f5f"
            },
            "marker": {
             "line": {
              "color": "#E5ECF6",
              "width": 0.5
             },
             "pattern": {
              "fillmode": "overlay",
              "size": 10,
              "solidity": 0.2
             }
            },
            "type": "bar"
           }
          ],
          "barpolar": [
           {
            "marker": {
             "line": {
              "color": "#E5ECF6",
              "width": 0.5
             },
             "pattern": {
              "fillmode": "overlay",
              "size": 10,
              "solidity": 0.2
             }
            },
            "type": "barpolar"
           }
          ],
          "carpet": [
           {
            "aaxis": {
             "endlinecolor": "#2a3f5f",
             "gridcolor": "white",
             "linecolor": "white",
             "minorgridcolor": "white",
             "startlinecolor": "#2a3f5f"
            },
            "baxis": {
             "endlinecolor": "#2a3f5f",
             "gridcolor": "white",
             "linecolor": "white",
             "minorgridcolor": "white",
             "startlinecolor": "#2a3f5f"
            },
            "type": "carpet"
           }
          ],
          "choropleth": [
           {
            "colorbar": {
             "outlinewidth": 0,
             "ticks": ""
            },
            "type": "choropleth"
           }
          ],
          "contour": [
           {
            "colorbar": {
             "outlinewidth": 0,
             "ticks": ""
            },
            "colorscale": [
             [
              0,
              "#0d0887"
             ],
             [
              0.1111111111111111,
              "#46039f"
             ],
             [
              0.2222222222222222,
              "#7201a8"
             ],
             [
              0.3333333333333333,
              "#9c179e"
             ],
             [
              0.4444444444444444,
              "#bd3786"
             ],
             [
              0.5555555555555556,
              "#d8576b"
             ],
             [
              0.6666666666666666,
              "#ed7953"
             ],
             [
              0.7777777777777778,
              "#fb9f3a"
             ],
             [
              0.8888888888888888,
              "#fdca26"
             ],
             [
              1,
              "#f0f921"
             ]
            ],
            "type": "contour"
           }
          ],
          "contourcarpet": [
           {
            "colorbar": {
             "outlinewidth": 0,
             "ticks": ""
            },
            "type": "contourcarpet"
           }
          ],
          "heatmap": [
           {
            "colorbar": {
             "outlinewidth": 0,
             "ticks": ""
            },
            "colorscale": [
             [
              0,
              "#0d0887"
             ],
             [
              0.1111111111111111,
              "#46039f"
             ],
             [
              0.2222222222222222,
              "#7201a8"
             ],
             [
              0.3333333333333333,
              "#9c179e"
             ],
             [
              0.4444444444444444,
              "#bd3786"
             ],
             [
              0.5555555555555556,
              "#d8576b"
             ],
             [
              0.6666666666666666,
              "#ed7953"
             ],
             [
              0.7777777777777778,
              "#fb9f3a"
             ],
             [
              0.8888888888888888,
              "#fdca26"
             ],
             [
              1,
              "#f0f921"
             ]
            ],
            "type": "heatmap"
           }
          ],
          "heatmapgl": [
           {
            "colorbar": {
             "outlinewidth": 0,
             "ticks": ""
            },
            "colorscale": [
             [
              0,
              "#0d0887"
             ],
             [
              0.1111111111111111,
              "#46039f"
             ],
             [
              0.2222222222222222,
              "#7201a8"
             ],
             [
              0.3333333333333333,
              "#9c179e"
             ],
             [
              0.4444444444444444,
              "#bd3786"
             ],
             [
              0.5555555555555556,
              "#d8576b"
             ],
             [
              0.6666666666666666,
              "#ed7953"
             ],
             [
              0.7777777777777778,
              "#fb9f3a"
             ],
             [
              0.8888888888888888,
              "#fdca26"
             ],
             [
              1,
              "#f0f921"
             ]
            ],
            "type": "heatmapgl"
           }
          ],
          "histogram": [
           {
            "marker": {
             "pattern": {
              "fillmode": "overlay",
              "size": 10,
              "solidity": 0.2
             }
            },
            "type": "histogram"
           }
          ],
          "histogram2d": [
           {
            "colorbar": {
             "outlinewidth": 0,
             "ticks": ""
            },
            "colorscale": [
             [
              0,
              "#0d0887"
             ],
             [
              0.1111111111111111,
              "#46039f"
             ],
             [
              0.2222222222222222,
              "#7201a8"
             ],
             [
              0.3333333333333333,
              "#9c179e"
             ],
             [
              0.4444444444444444,
              "#bd3786"
             ],
             [
              0.5555555555555556,
              "#d8576b"
             ],
             [
              0.6666666666666666,
              "#ed7953"
             ],
             [
              0.7777777777777778,
              "#fb9f3a"
             ],
             [
              0.8888888888888888,
              "#fdca26"
             ],
             [
              1,
              "#f0f921"
             ]
            ],
            "type": "histogram2d"
           }
          ],
          "histogram2dcontour": [
           {
            "colorbar": {
             "outlinewidth": 0,
             "ticks": ""
            },
            "colorscale": [
             [
              0,
              "#0d0887"
             ],
             [
              0.1111111111111111,
              "#46039f"
             ],
             [
              0.2222222222222222,
              "#7201a8"
             ],
             [
              0.3333333333333333,
              "#9c179e"
             ],
             [
              0.4444444444444444,
              "#bd3786"
             ],
             [
              0.5555555555555556,
              "#d8576b"
             ],
             [
              0.6666666666666666,
              "#ed7953"
             ],
             [
              0.7777777777777778,
              "#fb9f3a"
             ],
             [
              0.8888888888888888,
              "#fdca26"
             ],
             [
              1,
              "#f0f921"
             ]
            ],
            "type": "histogram2dcontour"
           }
          ],
          "mesh3d": [
           {
            "colorbar": {
             "outlinewidth": 0,
             "ticks": ""
            },
            "type": "mesh3d"
           }
          ],
          "parcoords": [
           {
            "line": {
             "colorbar": {
              "outlinewidth": 0,
              "ticks": ""
             }
            },
            "type": "parcoords"
           }
          ],
          "pie": [
           {
            "automargin": true,
            "type": "pie"
           }
          ],
          "scatter": [
           {
            "fillpattern": {
             "fillmode": "overlay",
             "size": 10,
             "solidity": 0.2
            },
            "type": "scatter"
           }
          ],
          "scatter3d": [
           {
            "line": {
             "colorbar": {
              "outlinewidth": 0,
              "ticks": ""
             }
            },
            "marker": {
             "colorbar": {
              "outlinewidth": 0,
              "ticks": ""
             }
            },
            "type": "scatter3d"
           }
          ],
          "scattercarpet": [
           {
            "marker": {
             "colorbar": {
              "outlinewidth": 0,
              "ticks": ""
             }
            },
            "type": "scattercarpet"
           }
          ],
          "scattergeo": [
           {
            "marker": {
             "colorbar": {
              "outlinewidth": 0,
              "ticks": ""
             }
            },
            "type": "scattergeo"
           }
          ],
          "scattergl": [
           {
            "marker": {
             "colorbar": {
              "outlinewidth": 0,
              "ticks": ""
             }
            },
            "type": "scattergl"
           }
          ],
          "scattermapbox": [
           {
            "marker": {
             "colorbar": {
              "outlinewidth": 0,
              "ticks": ""
             }
            },
            "type": "scattermapbox"
           }
          ],
          "scatterpolar": [
           {
            "marker": {
             "colorbar": {
              "outlinewidth": 0,
              "ticks": ""
             }
            },
            "type": "scatterpolar"
           }
          ],
          "scatterpolargl": [
           {
            "marker": {
             "colorbar": {
              "outlinewidth": 0,
              "ticks": ""
             }
            },
            "type": "scatterpolargl"
           }
          ],
          "scatterternary": [
           {
            "marker": {
             "colorbar": {
              "outlinewidth": 0,
              "ticks": ""
             }
            },
            "type": "scatterternary"
           }
          ],
          "surface": [
           {
            "colorbar": {
             "outlinewidth": 0,
             "ticks": ""
            },
            "colorscale": [
             [
              0,
              "#0d0887"
             ],
             [
              0.1111111111111111,
              "#46039f"
             ],
             [
              0.2222222222222222,
              "#7201a8"
             ],
             [
              0.3333333333333333,
              "#9c179e"
             ],
             [
              0.4444444444444444,
              "#bd3786"
             ],
             [
              0.5555555555555556,
              "#d8576b"
             ],
             [
              0.6666666666666666,
              "#ed7953"
             ],
             [
              0.7777777777777778,
              "#fb9f3a"
             ],
             [
              0.8888888888888888,
              "#fdca26"
             ],
             [
              1,
              "#f0f921"
             ]
            ],
            "type": "surface"
           }
          ],
          "table": [
           {
            "cells": {
             "fill": {
              "color": "#EBF0F8"
             },
             "line": {
              "color": "white"
             }
            },
            "header": {
             "fill": {
              "color": "#C8D4E3"
             },
             "line": {
              "color": "white"
             }
            },
            "type": "table"
           }
          ]
         },
         "layout": {
          "annotationdefaults": {
           "arrowcolor": "#2a3f5f",
           "arrowhead": 0,
           "arrowwidth": 1
          },
          "autotypenumbers": "strict",
          "coloraxis": {
           "colorbar": {
            "outlinewidth": 0,
            "ticks": ""
           }
          },
          "colorscale": {
           "diverging": [
            [
             0,
             "#8e0152"
            ],
            [
             0.1,
             "#c51b7d"
            ],
            [
             0.2,
             "#de77ae"
            ],
            [
             0.3,
             "#f1b6da"
            ],
            [
             0.4,
             "#fde0ef"
            ],
            [
             0.5,
             "#f7f7f7"
            ],
            [
             0.6,
             "#e6f5d0"
            ],
            [
             0.7,
             "#b8e186"
            ],
            [
             0.8,
             "#7fbc41"
            ],
            [
             0.9,
             "#4d9221"
            ],
            [
             1,
             "#276419"
            ]
           ],
           "sequential": [
            [
             0,
             "#0d0887"
            ],
            [
             0.1111111111111111,
             "#46039f"
            ],
            [
             0.2222222222222222,
             "#7201a8"
            ],
            [
             0.3333333333333333,
             "#9c179e"
            ],
            [
             0.4444444444444444,
             "#bd3786"
            ],
            [
             0.5555555555555556,
             "#d8576b"
            ],
            [
             0.6666666666666666,
             "#ed7953"
            ],
            [
             0.7777777777777778,
             "#fb9f3a"
            ],
            [
             0.8888888888888888,
             "#fdca26"
            ],
            [
             1,
             "#f0f921"
            ]
           ],
           "sequentialminus": [
            [
             0,
             "#0d0887"
            ],
            [
             0.1111111111111111,
             "#46039f"
            ],
            [
             0.2222222222222222,
             "#7201a8"
            ],
            [
             0.3333333333333333,
             "#9c179e"
            ],
            [
             0.4444444444444444,
             "#bd3786"
            ],
            [
             0.5555555555555556,
             "#d8576b"
            ],
            [
             0.6666666666666666,
             "#ed7953"
            ],
            [
             0.7777777777777778,
             "#fb9f3a"
            ],
            [
             0.8888888888888888,
             "#fdca26"
            ],
            [
             1,
             "#f0f921"
            ]
           ]
          },
          "colorway": [
           "#636efa",
           "#EF553B",
           "#00cc96",
           "#ab63fa",
           "#FFA15A",
           "#19d3f3",
           "#FF6692",
           "#B6E880",
           "#FF97FF",
           "#FECB52"
          ],
          "font": {
           "color": "#2a3f5f"
          },
          "geo": {
           "bgcolor": "white",
           "lakecolor": "white",
           "landcolor": "#E5ECF6",
           "showlakes": true,
           "showland": true,
           "subunitcolor": "white"
          },
          "hoverlabel": {
           "align": "left"
          },
          "hovermode": "closest",
          "mapbox": {
           "style": "light"
          },
          "paper_bgcolor": "white",
          "plot_bgcolor": "#E5ECF6",
          "polar": {
           "angularaxis": {
            "gridcolor": "white",
            "linecolor": "white",
            "ticks": ""
           },
           "bgcolor": "#E5ECF6",
           "radialaxis": {
            "gridcolor": "white",
            "linecolor": "white",
            "ticks": ""
           }
          },
          "scene": {
           "xaxis": {
            "backgroundcolor": "#E5ECF6",
            "gridcolor": "white",
            "gridwidth": 2,
            "linecolor": "white",
            "showbackground": true,
            "ticks": "",
            "zerolinecolor": "white"
           },
           "yaxis": {
            "backgroundcolor": "#E5ECF6",
            "gridcolor": "white",
            "gridwidth": 2,
            "linecolor": "white",
            "showbackground": true,
            "ticks": "",
            "zerolinecolor": "white"
           },
           "zaxis": {
            "backgroundcolor": "#E5ECF6",
            "gridcolor": "white",
            "gridwidth": 2,
            "linecolor": "white",
            "showbackground": true,
            "ticks": "",
            "zerolinecolor": "white"
           }
          },
          "shapedefaults": {
           "line": {
            "color": "#2a3f5f"
           }
          },
          "ternary": {
           "aaxis": {
            "gridcolor": "white",
            "linecolor": "white",
            "ticks": ""
           },
           "baxis": {
            "gridcolor": "white",
            "linecolor": "white",
            "ticks": ""
           },
           "bgcolor": "#E5ECF6",
           "caxis": {
            "gridcolor": "white",
            "linecolor": "white",
            "ticks": ""
           }
          },
          "title": {
           "x": 0.05
          },
          "xaxis": {
           "automargin": true,
           "gridcolor": "white",
           "linecolor": "white",
           "ticks": "",
           "title": {
            "standoff": 15
           },
           "zerolinecolor": "white",
           "zerolinewidth": 2
          },
          "yaxis": {
           "automargin": true,
           "gridcolor": "white",
           "linecolor": "white",
           "ticks": "",
           "title": {
            "standoff": 15
           },
           "zerolinecolor": "white",
           "zerolinewidth": 2
          }
         }
        },
        "title": {
         "text": "Proporción de ordenes aceptadas por linea",
         "x": 0.5
        },
        "xaxis": {
         "anchor": "y",
         "domain": [
          0,
          1
         ],
         "tickangle": -90,
         "tickmode": "linear",
         "title": {
          "text": "LINE"
         }
        },
        "yaxis": {
         "anchor": "x",
         "domain": [
          0,
          1
         ],
         "title": {
          "text": "percentage_acepted"
         }
        }
       }
      }
     },
     "metadata": {},
     "output_type": "display_data"
    }
   ],
   "source": [
    "# Crear gráfico de barras\n",
    "fig = px.bar(df_percentage_acepted, x='LINE', y='percentage_acepted', )\n",
    "fig.update_layout(\n",
    "    title_text='Proporción de ordenes aceptadas por linea',\n",
    "    title_x = 0.5\n",
    ")\n",
    "fig.update_xaxes(tickmode='linear')\n",
    "fig.update_xaxes(tickangle=-90)\n",
    "fig.show()"
   ]
  },
  {
   "cell_type": "markdown",
   "metadata": {},
   "source": [
    "En el gráfico se puede observar que la línea 22, 23, 25 y 30 son las líneas con menor proporción de ordenes completadas."
   ]
  }
 ],
 "metadata": {
  "kernelspec": {
   "display_name": "Python 3",
   "language": "python",
   "name": "python3"
  },
  "language_info": {
   "codemirror_mode": {
    "name": "ipython",
    "version": 3
   },
   "file_extension": ".py",
   "mimetype": "text/x-python",
   "name": "python",
   "nbconvert_exporter": "python",
   "pygments_lexer": "ipython3",
   "version": "3.12.1"
  }
 },
 "nbformat": 4,
 "nbformat_minor": 2
}
